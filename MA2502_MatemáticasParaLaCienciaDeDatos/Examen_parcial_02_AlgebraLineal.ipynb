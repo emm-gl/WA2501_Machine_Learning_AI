{
  "nbformat": 4,
  "nbformat_minor": 0,
  "metadata": {
    "colab": {
      "provenance": [],
      "authorship_tag": "ABX9TyMX38DpvNMcc7xw8+hGfYs7",
      "include_colab_link": true
    },
    "kernelspec": {
      "name": "python3",
      "display_name": "Python 3"
    },
    "language_info": {
      "name": "python"
    }
  },
  "cells": [
    {
      "cell_type": "markdown",
      "metadata": {
        "id": "view-in-github",
        "colab_type": "text"
      },
      "source": [
        "<a href=\"https://colab.research.google.com/github/emm-gl/WA2501_Machine_Learning_AI/blob/main/MA2502_Matem%C3%A1ticasParaLaCienciaDeDatos/Examen_parcial_02_AlgebraLineal.ipynb\" target=\"_parent\"><img src=\"https://colab.research.google.com/assets/colab-badge.svg\" alt=\"Open In Colab\"/></a>"
      ]
    },
    {
      "cell_type": "markdown",
      "source": [
        "# Examen parcial 02: Algebra Lineal\n",
        "\n",
        "Emmanuel Gonzalez Calitl\n",
        "\n",
        "Octubre 2025"
      ],
      "metadata": {
        "id": "YFjsILER-UN6"
      }
    },
    {
      "cell_type": "markdown",
      "source": [
        "Para aprobar el examen es necesario resolver los 3 ejercicios de la siguiente\n",
        "lista. Debe entregarse un Google Collab y compartirse con los profesores del\n",
        "curso sin darles permiso de edición. La fecha límite de entrega es el lunes de\n",
        "la semana 9.\n"
      ],
      "metadata": {
        "id": "q88BKCX6-1jJ"
      }
    },
    {
      "cell_type": "markdown",
      "source": [
        "### 1. Sin utilizar Numpy defina una función en Python para multiplicar dos\n",
        "matrices de tamaño arbitrario.\n"
      ],
      "metadata": {
        "id": "BWPbjm-Y-9g4"
      }
    },
    {
      "cell_type": "code",
      "source": [
        "def MatMul(A, B):\n",
        "    #Condiciones:\n",
        "    #Revisar que el número de columnas de la matriz A sea igual al número de filas de la matriz B\n",
        "    rowsA = len(A)\n",
        "    colsB = len(B[0])\n",
        "\n",
        "    if rowsA  != colsB:\n",
        "      print(\"Error el número de filas de la matriz A debe ser igual al número de columnas de la matriz B\")\n",
        "      print(\"Número de filas de la matriz A: \", rowsA)\n",
        "      print(\"Número de columnas de la matriz B: \", colsB)\n",
        "      return\n",
        "\n",
        "    #Multiplicación:\n",
        "    C = [[0 for _ in range(colsB)] for _ in range(rowsA)]       #Initialize the new matrix\n",
        "\n",
        "    for i in range(rowsA):                  #Iterar en cada fila de A\n",
        "      for j in range(colsB):                #Iterar en cada columna B\n",
        "        for k in range(len(B)):             #Iterar en cada fila de B\n",
        "          C[i][j] += A[i][k] * B[k][j]      #Producto punto\n",
        "\n",
        "    return C"
      ],
      "metadata": {
        "id": "Q37iFgPr_1xy"
      },
      "execution_count": null,
      "outputs": []
    },
    {
      "cell_type": "code",
      "source": [
        "#Matrices a multiplicar:\n",
        "A = [\n",
        "    [1, 2, 3],\n",
        "    [4, 5, 6]\n",
        "    ]\n",
        "\n",
        "B = [[5, -1],\n",
        "     [1, 0],\n",
        "     [-2, 3]\n",
        "     ]\n",
        "\n",
        "C = MatMul(A, B)\n",
        "\n",
        "#Impresión de Matriz de manera visual:\n",
        "for fila in C:\n",
        "    print(\" \".join(map(str, fila)))"
      ],
      "metadata": {
        "colab": {
          "base_uri": "https://localhost:8080/"
        },
        "id": "C6qthbRvNpNC",
        "outputId": "adacd624-2d28-4c9d-b8df-52a2b07a060f"
      },
      "execution_count": null,
      "outputs": [
        {
          "output_type": "stream",
          "name": "stdout",
          "text": [
            "1 8\n",
            "13 14\n"
          ]
        }
      ]
    },
    {
      "cell_type": "markdown",
      "source": [
        "### 2. Utilizar la descomposición en valores singulares para resolver alguno de los sistemas de ecuaciones de la primera semana."
      ],
      "metadata": {
        "id": "7-xBWzLD-_Mv"
      }
    },
    {
      "cell_type": "markdown",
      "source": [
        "Tomando un sistema de ecuaciones de la primera semana:\n",
        "\n",
        "$$\n",
        "2x + 3y - 4z = 7 \\\\\n",
        "-2x + 3y + 4z = 3 \\\\\n",
        "x + y + z = 0\n",
        "$$\n"
      ],
      "metadata": {
        "id": "vUV3aXuX_8y7"
      }
    },
    {
      "cell_type": "markdown",
      "source": [
        "Para resolver un sistema lineal:\n",
        "\n",
        "$$ A x = b $$\n",
        "\n",
        "donde:\n",
        "\n",
        "- \\(A\\) es una matriz de tamaño \\(m $*$ n\\)\n",
        "- \\(x\\) es el vector incógnita\n",
        "- \\(b\\) es el vector de resultados\n",
        "\n",
        "El objetivo es encontrar \\(x\\) tal que la ecuación se cumpla (o se aproxime si no hay solución exacta).\n",
        "\n",
        "#### Método SVD\n",
        "\n",
        "1. **Descomponer la matriz:**\n",
        "   $$ A = U \\Sigma V^T $$\n",
        "\n",
        "2. **Invertir los valores singulares distintos de cero:**\n",
        "   $$ \\Sigma^+ = \\text{diag}\\left(\\frac{1}{\\sigma_i}\\right) $$\n",
        "\n",
        "3. **Calcular la pseudoinversa:**\n",
        "   $$ A^+ = V \\Sigma^+ U^T $$\n",
        "\n",
        "4. **Obtener la solución (o mejor aproximación en mínimos cuadrados):**\n",
        "   $$ x = A^+ b $$\n"
      ],
      "metadata": {
        "id": "8wOlCtg0FSDh"
      }
    },
    {
      "cell_type": "code",
      "source": [
        "import numpy as np\n",
        "\n",
        "# Sistema: A·x = b\n",
        "A = np.array([\n",
        "    [2, 3, -4],\n",
        "    [-2, 3, 4],\n",
        "    [1, 1, 1]\n",
        "], dtype=float)\n",
        "\n",
        "b = np.array([7, 3, 0], dtype=float)\n",
        "\n",
        "# Descomposición SVD\n",
        "U, S, Vt = np.linalg.svd(A)\n",
        "\n",
        "# Construir Σ⁺ (invertir valores singulares no nulos)\n",
        "S_inv = np.zeros((Vt.shape[0], U.shape[0]))\n",
        "for i in range(len(S)):\n",
        "    if S[i] > 1e-10:\n",
        "        S_inv[i, i] = 1 / S[i]\n",
        "\n",
        "# Pseudoinversa y solución\n",
        "A_pinv = Vt.T @ S_inv @ U.T\n",
        "x = A_pinv @ b\n",
        "\n",
        "print(\"Solución usando SVD:\\n\", x)\n"
      ],
      "metadata": {
        "id": "_6iPDJyv_CII",
        "colab": {
          "base_uri": "https://localhost:8080/"
        },
        "outputId": "601e3369-8ca8-4790-b4bb-5672bfd026c4"
      },
      "execution_count": null,
      "outputs": [
        {
          "output_type": "stream",
          "name": "stdout",
          "text": [
            "Solución usando SVD:\n",
            " [-0.77777778  1.66666667 -0.88888889]\n"
          ]
        }
      ]
    },
    {
      "cell_type": "markdown",
      "source": [
        "Verificación de resultados por el método de numpy *linalg.solve()* :"
      ],
      "metadata": {
        "id": "3e8MueZyILDF"
      }
    },
    {
      "cell_type": "code",
      "source": [
        "# Matriz de coeficientes A y vector b\n",
        "A = np.array([\n",
        "    [2, 3, -4],\n",
        "    [-2, 3, 4],\n",
        "    [1, 1, 1]\n",
        "], dtype=float)\n",
        "\n",
        "b = np.array([7, 3, 0], dtype=float)\n",
        "\n",
        "# --- Método: usando np.linalg.solve (resolución directa) ---\n",
        "x_solve = np.linalg.solve(A, b)\n",
        "print(\"Solución con np.linalg.solve():\")\n",
        "print(x_solve)"
      ],
      "metadata": {
        "colab": {
          "base_uri": "https://localhost:8080/"
        },
        "id": "GnI6hEI7Hvdh",
        "outputId": "bb7f0f42-d4ee-4f12-8a75-eb0f9dc4754c"
      },
      "execution_count": null,
      "outputs": [
        {
          "output_type": "stream",
          "name": "stdout",
          "text": [
            "Solución con np.linalg.solve():\n",
            "[-0.77777778  1.66666667 -0.88888889]\n"
          ]
        }
      ]
    },
    {
      "cell_type": "markdown",
      "source": [
        "### 3. Utilizando la base de datos MNIST, comparar la reducción de PCA contra la de descomposición en valores singulares. La métrica que utilizaremos será la medida del coseno promedio (al reducir la dimensión) entre las imágenes del mismo dígito."
      ],
      "metadata": {
        "id": "-ciVodDk_Ayc"
      }
    },
    {
      "cell_type": "code",
      "source": [
        "import numpy as np\n",
        "from sklearn.decomposition import PCA, TruncatedSVD\n",
        "from sklearn.datasets import fetch_openml\n",
        "from sklearn.metrics.pairwise import cosine_similarity\n",
        "import matplotlib.pyplot as plt\n",
        "from tqdm import tqdm\n",
        "\n",
        "# Descargar dataset MNIST\n",
        "\n",
        "print(\"Cargando dataset MNIST...\")\n",
        "mnist = fetch_openml('mnist_784', version=1, as_frame=False)\n",
        "X = mnist.data / 255.0  # normalizamos a [0,1]\n",
        "y = mnist.target.astype(int)\n",
        "\n",
        "# Tomamos una muestra pequeña\n",
        "n_samples = 5000\n",
        "idx = np.random.choice(len(X), n_samples, replace=False)\n",
        "X = X[idx]\n",
        "y = y[idx]\n",
        "\n",
        "print(f\"Usando {n_samples} imágenes.\")"
      ],
      "metadata": {
        "colab": {
          "base_uri": "https://localhost:8080/"
        },
        "id": "JGQlrW9rvpMo",
        "outputId": "0a85ae9a-510a-45e5-95c1-870fde0c83de"
      },
      "execution_count": 4,
      "outputs": [
        {
          "output_type": "stream",
          "name": "stdout",
          "text": [
            "Cargando dataset MNIST...\n",
            "Usando 5000 imágenes.\n"
          ]
        }
      ]
    },
    {
      "cell_type": "code",
      "source": [
        "# Función para medir la similitud coseno promedio\n",
        "def mean_cosine_similarity(X_reduced, y):\n",
        "    \"\"\"\n",
        "    Calcula la similitud coseno promedio entre imágenes del mismo dígito.\n",
        "    \"\"\"\n",
        "    sim_per_digit = []\n",
        "    for digit in np.unique(y):\n",
        "        mask = y == digit\n",
        "        X_digit = X_reduced[mask]\n",
        "        # Matriz de similitud coseno\n",
        "        sims = cosine_similarity(X_digit)\n",
        "        # Promedio de la mitad superior (sin diagonal)\n",
        "        mean_sim = np.mean(sims[np.triu_indices_from(sims, k=1)])\n",
        "        sim_per_digit.append(mean_sim)\n",
        "    return np.mean(sim_per_digit)\n"
      ],
      "metadata": {
        "id": "_V_rFA-3vjHl"
      },
      "execution_count": 2,
      "outputs": []
    },
    {
      "cell_type": "code",
      "execution_count": 5,
      "metadata": {
        "id": "3xTMY8Sz-LE6",
        "colab": {
          "base_uri": "https://localhost:8080/",
          "height": 505
        },
        "outputId": "2cb10301-6d92-43f1-9af6-85c9330d1cdd"
      },
      "outputs": [
        {
          "output_type": "stream",
          "name": "stderr",
          "text": [
            "Reduciendo dimensiones: 100%|██████████| 6/6 [00:18<00:00,  3.09s/it]\n"
          ]
        },
        {
          "output_type": "display_data",
          "data": {
            "text/plain": [
              "<Figure size 800x500 with 1 Axes>"
            ],
            "image/png": "[encoded data removed]"
          },
          "metadata": {}
        }
      ],
      "source": [
        "# Evaluar diferentes dimensiones reducidas\n",
        "\n",
        "dims = [5, 10, 20, 50, 100, 200]\n",
        "pca_scores = []\n",
        "svd_scores = []\n",
        "\n",
        "for d in tqdm(dims, desc=\"Reduciendo dimensiones\"):\n",
        "    # PCA\n",
        "    pca = PCA(n_components=d)\n",
        "    X_pca = pca.fit_transform(X)\n",
        "    pca_scores.append(mean_cosine_similarity(X_pca, y))\n",
        "\n",
        "    # SVD truncada\n",
        "    svd = TruncatedSVD(n_components=d)\n",
        "    X_svd = svd.fit_transform(X)\n",
        "    svd_scores.append(mean_cosine_similarity(X_svd, y))\n",
        "\n",
        "\n",
        "# Graficar los resultados\n",
        "plt.figure(figsize=(8,5))\n",
        "plt.plot(dims, pca_scores, 'o-', label='PCA')\n",
        "plt.plot(dims, svd_scores, 's-', label='SVD (TruncatedSVD)')\n",
        "plt.xlabel('Dimensión reducida')\n",
        "plt.ylabel('Similitud coseno promedio')\n",
        "plt.title('Comparación PCA vs SVD en MNIST')\n",
        "plt.legend()\n",
        "plt.grid(True)\n",
        "plt.show()\n"
      ]
    }
  ]
}