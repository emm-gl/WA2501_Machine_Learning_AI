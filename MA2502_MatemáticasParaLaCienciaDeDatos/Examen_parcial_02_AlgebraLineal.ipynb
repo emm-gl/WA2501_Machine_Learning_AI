{
  "nbformat": 4,
  "nbformat_minor": 0,
  "metadata": {
    "colab": {
      "provenance": [],
      "authorship_tag": "ABX9TyM+qO4hrJa3D2Oc9jO3uTcm",
      "include_colab_link": true
    },
    "kernelspec": {
      "name": "python3",
      "display_name": "Python 3"
    },
    "language_info": {
      "name": "python"
    }
  },
  "cells": [
    {
      "cell_type": "markdown",
      "metadata": {
        "id": "view-in-github",
        "colab_type": "text"
      },
      "source": [
        "<a href=\"https://colab.research.google.com/github/emm-gl/WA2501_Machine_Learning_AI/blob/main/MA2502_Matem%C3%A1ticasParaLaCienciaDeDatos/Examen_parcial_02_AlgebraLineal.ipynb\" target=\"_parent\"><img src=\"https://colab.research.google.com/assets/colab-badge.svg\" alt=\"Open In Colab\"/></a>"
      ]
    },
    {
      "cell_type": "markdown",
      "source": [
        "# Examen parcial 02: Algebra Lineal\n",
        "\n",
        "Emmanuel Gonzalez Calitl\n",
        "\n",
        "Octubre 2025"
      ],
      "metadata": {
        "id": "YFjsILER-UN6"
      }
    },
    {
      "cell_type": "markdown",
      "source": [
        "Para aprobar el examen es necesario resolver los 3 ejercicios de la siguiente\n",
        "lista. Debe entregarse un Google Collab y compartirse con los profesores del\n",
        "curso sin darles permiso de edición. La fecha límite de entrega es el lunes de\n",
        "la semana 9.\n"
      ],
      "metadata": {
        "id": "q88BKCX6-1jJ"
      }
    },
    {
      "cell_type": "markdown",
      "source": [
        "\n",
        "1. Sin utilizar Numpy defina una función en Python para multiplicar dos\n",
        "matrices de tamaño arbitrario.\n"
      ],
      "metadata": {
        "id": "BWPbjm-Y-9g4"
      }
    },
    {
      "cell_type": "code",
      "source": [
        "def MatMul(A, B):\n",
        "    #Condiciones:\n",
        "    #Revisar que el número de columnas de la matriz A sea igual al número de filas de la matriz B\n",
        "    rowsA = len(A)\n",
        "    colsB = len(B[0])\n",
        "\n",
        "    if rowsA  != colsB:\n",
        "      print(\"Error el número de filas de la matriz A debe ser igual al número de columnas de la matriz B\")\n",
        "      print(\"Número de filas de la matriz A: \", rowsA)\n",
        "      print(\"Número de columnas de la matriz B: \", colsB)\n",
        "      return\n",
        "\n",
        "    #Multiplicación:\n",
        "    C = [[0 for _ in range(colsB)] for _ in range(rowsA)]       #Initialize the new matrix\n",
        "\n",
        "    for i in range(rowsA):                  #Iterar en cada fila de A\n",
        "      for j in range(colsB):                #Iterar en cada columna B\n",
        "        for k in range(len(B)):             #Iterar en cada fila de B\n",
        "          C[i][j] += A[i][k] * B[k][j]      #Producto punto\n",
        "\n",
        "    return C"
      ],
      "metadata": {
        "id": "Q37iFgPr_1xy"
      },
      "execution_count": 86,
      "outputs": []
    },
    {
      "cell_type": "code",
      "source": [
        "#Matrices a multiplicar:\n",
        "A = [\n",
        "    [1, 2, 3],\n",
        "    [4, 5, 6]\n",
        "    ]\n",
        "\n",
        "B = [[5, -1],\n",
        "     [1, 0],\n",
        "     [-2, 3]\n",
        "     ]\n",
        "\n",
        "C = MatMul(A, B)\n",
        "\n",
        "#Impresión de Matriz de manera visual:\n",
        "for fila in C:\n",
        "    print(\" \".join(map(str, fila)))"
      ],
      "metadata": {
        "colab": {
          "base_uri": "https://localhost:8080/"
        },
        "id": "C6qthbRvNpNC",
        "outputId": "adacd624-2d28-4c9d-b8df-52a2b07a060f"
      },
      "execution_count": 88,
      "outputs": [
        {
          "output_type": "stream",
          "name": "stdout",
          "text": [
            "1 8\n",
            "13 14\n"
          ]
        }
      ]
    },
    {
      "cell_type": "markdown",
      "source": [
        "\n",
        "2. Utilizar la descomposición en valores singulares para resolver alguno\n",
        "de los sistemas de ecuaciones de la primera semana."
      ],
      "metadata": {
        "id": "7-xBWzLD-_Mv"
      }
    },
    {
      "cell_type": "code",
      "source": [],
      "metadata": {
        "id": "_6iPDJyv_CII"
      },
      "execution_count": null,
      "outputs": []
    },
    {
      "cell_type": "markdown",
      "source": [
        "\n",
        "\n",
        "3. Utilizando la base de datos MNIST, comparar la reducción de PCA contra la de descomposición en valores singulares. La métrica que utilizaremos será la medida del coseno promedio (al reducir la dimensión) entre las imágenes del mismo dígito."
      ],
      "metadata": {
        "id": "-ciVodDk_Ayc"
      }
    },
    {
      "cell_type": "code",
      "execution_count": null,
      "metadata": {
        "id": "3xTMY8Sz-LE6"
      },
      "outputs": [],
      "source": []
    }
  ]
}