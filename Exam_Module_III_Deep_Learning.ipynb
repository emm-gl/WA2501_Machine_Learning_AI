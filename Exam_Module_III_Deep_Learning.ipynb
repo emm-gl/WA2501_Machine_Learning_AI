{
  "nbformat": 4,
  "nbformat_minor": 0,
  "metadata": {
    "colab": {
      "provenance": [],
      "collapsed_sections": [
        "cCVf7qylCUX0",
        "7Cq8Alz24c8H",
        "AKy1g3MC5L8G",
        "Wp1YUUCZwsII",
        "M60YWLZGAbFY"
      ],
      "gpuType": "T4",
      "authorship_tag": "ABX9TyPstNDIYw/BwQiNvlhIBf8O",
      "include_colab_link": true
    },
    "kernelspec": {
      "name": "python3",
      "display_name": "Python 3"
    },
    "language_info": {
      "name": "python"
    },
    "accelerator": "GPU"
  },
  "cells": [
    {
      "cell_type": "markdown",
      "metadata": {
        "id": "view-in-github",
        "colab_type": "text"
      },
      "source": [
        "<a href=\"https://colab.research.google.com/github/emm-gl/WA2501_Machine_Learning_AI/blob/main/Exam_Module_III_Deep_Learning.ipynb\" target=\"_parent\"><img src=\"https://colab.research.google.com/assets/colab-badge.svg\" alt=\"Open In Colab\"/></a>"
      ]
    },
    {
      "cell_type": "markdown",
      "source": [
        "#Examen Working Analyst\n",
        "##Módulo III: deep learning\n",
        "\n",
        "### **Examen práctico**\n",
        "\n",
        "Desarrolle un clasificador de reseñas de hoteles (positivas y negativas) utilizando una red neuronal recurrente (RNN, por sus siglas en\n",
        "inglés). El archivo csv se encuentra disponible en este [enlace](https://raw.githubusercontent.com/AnIsAsPe/LogisticRegression_SpamOpinion/master/Datos/deceptive-opinion.csv):\n",
        "\n",
        "Para ello, utilice un modelo secuencial que\n",
        "tenga las siguientes capas:\n",
        "* Una capa de embedding (que no se entrene, que utilice el modelo word2vec).\n",
        "\n",
        "* Una capa LSTM de con tantas unidades como dimensiones tenga el modelo word2vec utilizado, y un dropout de 0.2.\n",
        "\n",
        "* Una capa de salida con 1 neurona para la clase de cada reseña. Para esta capa\n",
        "elige una función de activación conveniente para la clasificación binaria."
      ],
      "metadata": {
        "id": "Hyk_J3TLPTJQ"
      }
    },
    {
      "cell_type": "markdown",
      "source": [
        "Alumno: Emmanuel Gonzalez Calitl\n",
        "\n",
        "c.egonca@icloud.com\n",
        "\n",
        "Mayo 2025\n"
      ],
      "metadata": {
        "id": "2HfRgOu7PYbz"
      }
    },
    {
      "cell_type": "markdown",
      "source": [
        "## Install and import packages"
      ],
      "metadata": {
        "id": "cCVf7qylCUX0"
      }
    },
    {
      "cell_type": "markdown",
      "source": [
        "Install gensim, then restart the runtime and continue running the next cells:"
      ],
      "metadata": {
        "id": "VsNYRHuQmWCf"
      }
    },
    {
      "cell_type": "code",
      "source": [
        "#!pip install gensim"
      ],
      "metadata": {
        "id": "sSXZmlxSgdR5"
      },
      "execution_count": 1,
      "outputs": []
    },
    {
      "cell_type": "code",
      "source": [
        "import pandas as pd\n",
        "import numpy as np\n",
        "import re\n",
        "from sklearn.model_selection import train_test_split\n",
        "from tensorflow.keras.preprocessing.text import Tokenizer\n",
        "from tensorflow.keras.preprocessing.sequence import pad_sequences\n",
        "from tensorflow.keras.models import Sequential\n",
        "from tensorflow.keras.layers import Embedding, LSTM, Dense\n",
        "from gensim.models import KeyedVectors\n",
        "\n",
        "import matplotlib.pyplot as plt\n",
        "import gensim\n",
        "from collections import Counter\n",
        "\n",
        "from tensorflow.keras.utils import to_categorical\n",
        "\n",
        "import tensorflow\n",
        "from tensorflow.keras import Sequential, Model, Input\n",
        "from tensorflow.keras.layers import LSTM, Embedding, Dense, TimeDistributed, Dropout, Bidirectional\n",
        "from tensorflow.keras.initializers import Constant\n",
        "from tensorflow.keras.utils import plot_model"
      ],
      "metadata": {
        "id": "OQ480PMMfX2x"
      },
      "execution_count": 2,
      "outputs": []
    },
    {
      "cell_type": "markdown",
      "source": [
        "## Preprocessing functions:"
      ],
      "metadata": {
        "id": "7Cq8Alz24c8H"
      }
    },
    {
      "cell_type": "code",
      "source": [
        "!pip install contractions\n",
        "import contractions"
      ],
      "metadata": {
        "collapsed": true,
        "colab": {
          "base_uri": "https://localhost:8080/"
        },
        "id": "ZY1jL4Us8KRy",
        "outputId": "030b22c7-f845-4ab1-e521-a652418de43d"
      },
      "execution_count": 3,
      "outputs": [
        {
          "output_type": "stream",
          "name": "stdout",
          "text": [
            "Requirement already satisfied: contractions in /usr/local/lib/python3.11/dist-packages (0.1.73)\n",
            "Requirement already satisfied: textsearch>=0.0.21 in /usr/local/lib/python3.11/dist-packages (from contractions) (0.0.24)\n",
            "Requirement already satisfied: anyascii in /usr/local/lib/python3.11/dist-packages (from textsearch>=0.0.21->contractions) (0.3.2)\n",
            "Requirement already satisfied: pyahocorasick in /usr/local/lib/python3.11/dist-packages (from textsearch>=0.0.21->contractions) (2.1.0)\n"
          ]
        }
      ]
    },
    {
      "cell_type": "code",
      "source": [
        "import re\n",
        "import nltk\n",
        "from nltk.corpus import stopwords\n",
        "from nltk.stem import WordNetLemmatizer, PorterStemmer  ## SnowballStemmer (para español)\n",
        "nltk.download('stopwords')\n",
        "nltk.download('wordnet')"
      ],
      "metadata": {
        "collapsed": true,
        "colab": {
          "base_uri": "https://localhost:8080/"
        },
        "id": "0HvL2bYa8YYn",
        "outputId": "602b1707-d60f-425e-e99e-1491cfb52f1d"
      },
      "execution_count": 4,
      "outputs": [
        {
          "output_type": "stream",
          "name": "stderr",
          "text": [
            "[nltk_data] Downloading package stopwords to /root/nltk_data...\n",
            "[nltk_data]   Package stopwords is already up-to-date!\n",
            "[nltk_data] Downloading package wordnet to /root/nltk_data...\n",
            "[nltk_data]   Package wordnet is already up-to-date!\n"
          ]
        },
        {
          "output_type": "execute_result",
          "data": {
            "text/plain": [
              "True"
            ]
          },
          "metadata": {},
          "execution_count": 4
        }
      ]
    },
    {
      "cell_type": "code",
      "source": [
        "def elimina_stopwords(texto):\n",
        "  '''La función usa expresiones regulares (re) para quitar todas las palabras\n",
        "  que sean una palabra vacia:'''\n",
        "  stop = re.compile(r'\\b(' + r'|'.join(stopwords.words('english')) + r')\\b\\s*')\n",
        "  nuevo_texto = stop.sub('', texto)\n",
        "  return nuevo_texto"
      ],
      "metadata": {
        "id": "jfNMlbr24gmi"
      },
      "execution_count": 5,
      "outputs": []
    },
    {
      "cell_type": "code",
      "source": [
        "def elimina_puntuacion_y_numeros(texto):\n",
        "  nuevo_texto = re.sub('[^a-z]+', ' ', texto)\n",
        "  return nuevo_texto"
      ],
      "metadata": {
        "id": "0hwN3Lvm4kBR"
      },
      "execution_count": 6,
      "outputs": []
    },
    {
      "cell_type": "code",
      "source": [
        "def lematizar(texto):\n",
        "  lemma = WordNetLemmatizer()\n",
        "  texto = texto.split()\n",
        "  texto2 = \" \".join([lemma.lemmatize(i, 'v') for i in texto])\n",
        "  nuevo_texto = \" \".join([lemma.lemmatize(i, 'v') for i in texto])\n",
        "  return nuevo_texto"
      ],
      "metadata": {
        "id": "-FeJoNE84u4B"
      },
      "execution_count": 7,
      "outputs": []
    },
    {
      "cell_type": "code",
      "source": [
        "def stemmer(texto):\n",
        "  st = PorterStemmer()\n",
        "  texto = texto.split()\n",
        "  nuevo_texto = ' '.join([st.stem(i) for i in texto])\n",
        "  return nuevo_texto"
      ],
      "metadata": {
        "id": "D5adm7c248kr"
      },
      "execution_count": 8,
      "outputs": []
    },
    {
      "cell_type": "code",
      "source": [
        "def preprocesar(texto):\n",
        "  texto = contractions.fix(texto)\n",
        "  texto = texto.lower()\n",
        "  texto = elimina_stopwords(texto)\n",
        "  texto = elimina_puntuacion_y_numeros(texto)\n",
        "  texto = stemmer(texto)\n",
        "  return(texto)"
      ],
      "metadata": {
        "id": "WzwmnbXy4-xa"
      },
      "execution_count": 9,
      "outputs": []
    },
    {
      "cell_type": "code",
      "source": [
        "def convert_polarity(polarity):\n",
        "    if polarity == 'positive':\n",
        "        return 1\n",
        "    else:\n",
        "        return 0"
      ],
      "metadata": {
        "id": "fcL2JgmD7U-5"
      },
      "execution_count": 10,
      "outputs": []
    },
    {
      "cell_type": "markdown",
      "source": [
        "## Get dataset"
      ],
      "metadata": {
        "id": "AKy1g3MC5L8G"
      }
    },
    {
      "cell_type": "code",
      "source": [
        "csv_file =\"https://raw.githubusercontent.com/AnIsAsPe/LogisticRegression_SpamOpinion/master/Datos/deceptive-opinion.csv\"\n",
        "data = pd.read_csv(csv_file, encoding= 'unicode_escape')\n",
        "data = data.fillna( method='ffill', axis=0)\n",
        "data.head(3)"
      ],
      "metadata": {
        "colab": {
          "base_uri": "https://localhost:8080/",
          "height": 0
        },
        "id": "bj96_WfjoD1y",
        "outputId": "f17e9bd4-bf57-4350-c9cf-684b6c672ecd"
      },
      "execution_count": 11,
      "outputs": [
        {
          "output_type": "stream",
          "name": "stderr",
          "text": [
            "<ipython-input-11-ffd35d0e3974>:3: FutureWarning: DataFrame.fillna with 'method' is deprecated and will raise in a future version. Use obj.ffill() or obj.bfill() instead.\n",
            "  data = data.fillna( method='ffill', axis=0)\n"
          ]
        },
        {
          "output_type": "execute_result",
          "data": {
            "text/plain": [
              "  deceptive   hotel  polarity       source  \\\n",
              "0  truthful  conrad  positive  TripAdvisor   \n",
              "1  truthful   hyatt  positive  TripAdvisor   \n",
              "2  truthful   hyatt  positive  TripAdvisor   \n",
              "\n",
              "                                                text  \n",
              "0  We stayed for a one night getaway with family ...  \n",
              "1  Triple A rate with upgrade to view room was le...  \n",
              "2  This comes a little late as I'm finally catchi...  "
            ],
            "text/html": [
              "\n",
              "  <div id=\"df-ad43e717-8fde-4d41-8a6a-ae3ef2a86036\" class=\"colab-df-container\">\n",
              "    <div>\n",
              "<style scoped>\n",
              "    .dataframe tbody tr th:only-of-type {\n",
              "        vertical-align: middle;\n",
              "    }\n",
              "\n",
              "    .dataframe tbody tr th {\n",
              "        vertical-align: top;\n",
              "    }\n",
              "\n",
              "    .dataframe thead th {\n",
              "        text-align: right;\n",
              "    }\n",
              "</style>\n",
              "<table border=\"1\" class=\"dataframe\">\n",
              "  <thead>\n",
              "    <tr style=\"text-align: right;\">\n",
              "      <th></th>\n",
              "      <th>deceptive</th>\n",
              "      <th>hotel</th>\n",
              "      <th>polarity</th>\n",
              "      <th>source</th>\n",
              "      <th>text</th>\n",
              "    </tr>\n",
              "  </thead>\n",
              "  <tbody>\n",
              "    <tr>\n",
              "      <th>0</th>\n",
              "      <td>truthful</td>\n",
              "      <td>conrad</td>\n",
              "      <td>positive</td>\n",
              "      <td>TripAdvisor</td>\n",
              "      <td>We stayed for a one night getaway with family ...</td>\n",
              "    </tr>\n",
              "    <tr>\n",
              "      <th>1</th>\n",
              "      <td>truthful</td>\n",
              "      <td>hyatt</td>\n",
              "      <td>positive</td>\n",
              "      <td>TripAdvisor</td>\n",
              "      <td>Triple A rate with upgrade to view room was le...</td>\n",
              "    </tr>\n",
              "    <tr>\n",
              "      <th>2</th>\n",
              "      <td>truthful</td>\n",
              "      <td>hyatt</td>\n",
              "      <td>positive</td>\n",
              "      <td>TripAdvisor</td>\n",
              "      <td>This comes a little late as I'm finally catchi...</td>\n",
              "    </tr>\n",
              "  </tbody>\n",
              "</table>\n",
              "</div>\n",
              "    <div class=\"colab-df-buttons\">\n",
              "\n",
              "  <div class=\"colab-df-container\">\n",
              "    <button class=\"colab-df-convert\" onclick=\"convertToInteractive('df-ad43e717-8fde-4d41-8a6a-ae3ef2a86036')\"\n",
              "            title=\"Convert this dataframe to an interactive table.\"\n",
              "            style=\"display:none;\">\n",
              "\n",
              "  <svg xmlns=\"http://www.w3.org/2000/svg\" height=\"24px\" viewBox=\"0 -960 960 960\">\n",
              "    <path d=\"M120-120v-720h720v720H120Zm60-500h600v-160H180v160Zm220 220h160v-160H400v160Zm0 220h160v-160H400v160ZM180-400h160v-160H180v160Zm440 0h160v-160H620v160ZM180-180h160v-160H180v160Zm440 0h160v-160H620v160Z\"/>\n",
              "  </svg>\n",
              "    </button>\n",
              "\n",
              "  <style>\n",
              "    .colab-df-container {\n",
              "      display:flex;\n",
              "      gap: 12px;\n",
              "    }\n",
              "\n",
              "    .colab-df-convert {\n",
              "      background-color: #E8F0FE;\n",
              "      border: none;\n",
              "      border-radius: 50%;\n",
              "      cursor: pointer;\n",
              "      display: none;\n",
              "      fill: #1967D2;\n",
              "      height: 32px;\n",
              "      padding: 0 0 0 0;\n",
              "      width: 32px;\n",
              "    }\n",
              "\n",
              "    .colab-df-convert:hover {\n",
              "      background-color: #E2EBFA;\n",
              "      box-shadow: 0px 1px 2px rgba(60, 64, 67, 0.3), 0px 1px 3px 1px rgba(60, 64, 67, 0.15);\n",
              "      fill: #174EA6;\n",
              "    }\n",
              "\n",
              "    .colab-df-buttons div {\n",
              "      margin-bottom: 4px;\n",
              "    }\n",
              "\n",
              "    [theme=dark] .colab-df-convert {\n",
              "      background-color: #3B4455;\n",
              "      fill: #D2E3FC;\n",
              "    }\n",
              "\n",
              "    [theme=dark] .colab-df-convert:hover {\n",
              "      background-color: #434B5C;\n",
              "      box-shadow: 0px 1px 3px 1px rgba(0, 0, 0, 0.15);\n",
              "      filter: drop-shadow(0px 1px 2px rgba(0, 0, 0, 0.3));\n",
              "      fill: #FFFFFF;\n",
              "    }\n",
              "  </style>\n",
              "\n",
              "    <script>\n",
              "      const buttonEl =\n",
              "        document.querySelector('#df-ad43e717-8fde-4d41-8a6a-ae3ef2a86036 button.colab-df-convert');\n",
              "      buttonEl.style.display =\n",
              "        google.colab.kernel.accessAllowed ? 'block' : 'none';\n",
              "\n",
              "      async function convertToInteractive(key) {\n",
              "        const element = document.querySelector('#df-ad43e717-8fde-4d41-8a6a-ae3ef2a86036');\n",
              "        const dataTable =\n",
              "          await google.colab.kernel.invokeFunction('convertToInteractive',\n",
              "                                                    [key], {});\n",
              "        if (!dataTable) return;\n",
              "\n",
              "        const docLinkHtml = 'Like what you see? Visit the ' +\n",
              "          '<a target=\"_blank\" href=https://colab.research.google.com/notebooks/data_table.ipynb>data table notebook</a>'\n",
              "          + ' to learn more about interactive tables.';\n",
              "        element.innerHTML = '';\n",
              "        dataTable['output_type'] = 'display_data';\n",
              "        await google.colab.output.renderOutput(dataTable, element);\n",
              "        const docLink = document.createElement('div');\n",
              "        docLink.innerHTML = docLinkHtml;\n",
              "        element.appendChild(docLink);\n",
              "      }\n",
              "    </script>\n",
              "  </div>\n",
              "\n",
              "\n",
              "    <div id=\"df-b076221a-76b3-4e53-aa91-b3cf975d6878\">\n",
              "      <button class=\"colab-df-quickchart\" onclick=\"quickchart('df-b076221a-76b3-4e53-aa91-b3cf975d6878')\"\n",
              "                title=\"Suggest charts\"\n",
              "                style=\"display:none;\">\n",
              "\n",
              "<svg xmlns=\"http://www.w3.org/2000/svg\" height=\"24px\"viewBox=\"0 0 24 24\"\n",
              "     width=\"24px\">\n",
              "    <g>\n",
              "        <path d=\"M19 3H5c-1.1 0-2 .9-2 2v14c0 1.1.9 2 2 2h14c1.1 0 2-.9 2-2V5c0-1.1-.9-2-2-2zM9 17H7v-7h2v7zm4 0h-2V7h2v10zm4 0h-2v-4h2v4z\"/>\n",
              "    </g>\n",
              "</svg>\n",
              "      </button>\n",
              "\n",
              "<style>\n",
              "  .colab-df-quickchart {\n",
              "      --bg-color: #E8F0FE;\n",
              "      --fill-color: #1967D2;\n",
              "      --hover-bg-color: #E2EBFA;\n",
              "      --hover-fill-color: #174EA6;\n",
              "      --disabled-fill-color: #AAA;\n",
              "      --disabled-bg-color: #DDD;\n",
              "  }\n",
              "\n",
              "  [theme=dark] .colab-df-quickchart {\n",
              "      --bg-color: #3B4455;\n",
              "      --fill-color: #D2E3FC;\n",
              "      --hover-bg-color: #434B5C;\n",
              "      --hover-fill-color: #FFFFFF;\n",
              "      --disabled-bg-color: #3B4455;\n",
              "      --disabled-fill-color: #666;\n",
              "  }\n",
              "\n",
              "  .colab-df-quickchart {\n",
              "    background-color: var(--bg-color);\n",
              "    border: none;\n",
              "    border-radius: 50%;\n",
              "    cursor: pointer;\n",
              "    display: none;\n",
              "    fill: var(--fill-color);\n",
              "    height: 32px;\n",
              "    padding: 0;\n",
              "    width: 32px;\n",
              "  }\n",
              "\n",
              "  .colab-df-quickchart:hover {\n",
              "    background-color: var(--hover-bg-color);\n",
              "    box-shadow: 0 1px 2px rgba(60, 64, 67, 0.3), 0 1px 3px 1px rgba(60, 64, 67, 0.15);\n",
              "    fill: var(--button-hover-fill-color);\n",
              "  }\n",
              "\n",
              "  .colab-df-quickchart-complete:disabled,\n",
              "  .colab-df-quickchart-complete:disabled:hover {\n",
              "    background-color: var(--disabled-bg-color);\n",
              "    fill: var(--disabled-fill-color);\n",
              "    box-shadow: none;\n",
              "  }\n",
              "\n",
              "  .colab-df-spinner {\n",
              "    border: 2px solid var(--fill-color);\n",
              "    border-color: transparent;\n",
              "    border-bottom-color: var(--fill-color);\n",
              "    animation:\n",
              "      spin 1s steps(1) infinite;\n",
              "  }\n",
              "\n",
              "  @keyframes spin {\n",
              "    0% {\n",
              "      border-color: transparent;\n",
              "      border-bottom-color: var(--fill-color);\n",
              "      border-left-color: var(--fill-color);\n",
              "    }\n",
              "    20% {\n",
              "      border-color: transparent;\n",
              "      border-left-color: var(--fill-color);\n",
              "      border-top-color: var(--fill-color);\n",
              "    }\n",
              "    30% {\n",
              "      border-color: transparent;\n",
              "      border-left-color: var(--fill-color);\n",
              "      border-top-color: var(--fill-color);\n",
              "      border-right-color: var(--fill-color);\n",
              "    }\n",
              "    40% {\n",
              "      border-color: transparent;\n",
              "      border-right-color: var(--fill-color);\n",
              "      border-top-color: var(--fill-color);\n",
              "    }\n",
              "    60% {\n",
              "      border-color: transparent;\n",
              "      border-right-color: var(--fill-color);\n",
              "    }\n",
              "    80% {\n",
              "      border-color: transparent;\n",
              "      border-right-color: var(--fill-color);\n",
              "      border-bottom-color: var(--fill-color);\n",
              "    }\n",
              "    90% {\n",
              "      border-color: transparent;\n",
              "      border-bottom-color: var(--fill-color);\n",
              "    }\n",
              "  }\n",
              "</style>\n",
              "\n",
              "      <script>\n",
              "        async function quickchart(key) {\n",
              "          const quickchartButtonEl =\n",
              "            document.querySelector('#' + key + ' button');\n",
              "          quickchartButtonEl.disabled = true;  // To prevent multiple clicks.\n",
              "          quickchartButtonEl.classList.add('colab-df-spinner');\n",
              "          try {\n",
              "            const charts = await google.colab.kernel.invokeFunction(\n",
              "                'suggestCharts', [key], {});\n",
              "          } catch (error) {\n",
              "            console.error('Error during call to suggestCharts:', error);\n",
              "          }\n",
              "          quickchartButtonEl.classList.remove('colab-df-spinner');\n",
              "          quickchartButtonEl.classList.add('colab-df-quickchart-complete');\n",
              "        }\n",
              "        (() => {\n",
              "          let quickchartButtonEl =\n",
              "            document.querySelector('#df-b076221a-76b3-4e53-aa91-b3cf975d6878 button');\n",
              "          quickchartButtonEl.style.display =\n",
              "            google.colab.kernel.accessAllowed ? 'block' : 'none';\n",
              "        })();\n",
              "      </script>\n",
              "    </div>\n",
              "\n",
              "    </div>\n",
              "  </div>\n"
            ],
            "application/vnd.google.colaboratory.intrinsic+json": {
              "type": "dataframe",
              "variable_name": "data",
              "summary": "{\n  \"name\": \"data\",\n  \"rows\": 1600,\n  \"fields\": [\n    {\n      \"column\": \"deceptive\",\n      \"properties\": {\n        \"dtype\": \"category\",\n        \"num_unique_values\": 2,\n        \"samples\": [\n          \"deceptive\",\n          \"truthful\"\n        ],\n        \"semantic_type\": \"\",\n        \"description\": \"\"\n      }\n    },\n    {\n      \"column\": \"hotel\",\n      \"properties\": {\n        \"dtype\": \"category\",\n        \"num_unique_values\": 20,\n        \"samples\": [\n          \"conrad\",\n          \"intercontinental\"\n        ],\n        \"semantic_type\": \"\",\n        \"description\": \"\"\n      }\n    },\n    {\n      \"column\": \"polarity\",\n      \"properties\": {\n        \"dtype\": \"category\",\n        \"num_unique_values\": 2,\n        \"samples\": [\n          \"negative\",\n          \"positive\"\n        ],\n        \"semantic_type\": \"\",\n        \"description\": \"\"\n      }\n    },\n    {\n      \"column\": \"source\",\n      \"properties\": {\n        \"dtype\": \"category\",\n        \"num_unique_values\": 3,\n        \"samples\": [\n          \"TripAdvisor\",\n          \"MTurk\"\n        ],\n        \"semantic_type\": \"\",\n        \"description\": \"\"\n      }\n    },\n    {\n      \"column\": \"text\",\n      \"properties\": {\n        \"dtype\": \"string\",\n        \"num_unique_values\": 1596,\n        \"samples\": [\n          \"We booked thru hotwire which we have a high percentage of positive outcomes. I was very happy when we saw that we would be staying at The Knickerbocker-as I had stayed when I was younger. We reserved a King Non-Smoker. Upon arriving we were told that they did not have that and we only had the choice of a Smoking room. When argued they stated 'well you booked thru hotwire so you do not have priority'. As we entered the room I noticed the bathroom door was off track and the bathroom light did not turn on. We called the front desk and they fixed the door but not the light. Later that eveing as I took a shower the seal around the shower was so poor water got all over the floor and towels. Also, I must add the room reaked of smoke. The next day when we checked the front desk clerk asked how our stay was and when we told him the problems, he told us the total and had not concern of our issues. We also checked in our bags for the day, and the bellmen came quickly and made very rude comments about us hurrying up so he could get on with his day. We realized a bit later that we forgot something in one of the bags and was told they would not get them back out. STAY AWAY-even if you get a good deal!!\\n\",\n          \"This hotel is rather stupid to be frank. It's a horrible attempt to be retro-sheek but ends up looking similar to that Saturday Night live skit where things are so sheek that they are not functional. The rooms are about the size of a shoe box and there isn't much in them. I actually like the Pedestal in the bathroom but there is no sink. I had to put my make-up on using the toliet for 5-days. It also took me 10-minutes to figure out how to turn on the shower and the bathroom is more like a closet then anything. I had guests over one evening and everyone could hear everyone pee b/c the bathroom doors aren't doors at all and there is no bathroom fan! It was just over the top for me and lots of costruction nearby to keep you up at night. On a good note, the staff are really friendly and the place is really clean. That's about the only good thing I can say about this place. I would not go back.\\n\"\n        ],\n        \"semantic_type\": \"\",\n        \"description\": \"\"\n      }\n    }\n  ]\n}"
            }
          },
          "metadata": {},
          "execution_count": 11
        }
      ]
    },
    {
      "cell_type": "code",
      "source": [
        "data.info()"
      ],
      "metadata": {
        "colab": {
          "base_uri": "https://localhost:8080/"
        },
        "id": "wmHigYMf5-96",
        "outputId": "36c31c2f-6fed-4812-966b-15a594ac8151"
      },
      "execution_count": 12,
      "outputs": [
        {
          "output_type": "stream",
          "name": "stdout",
          "text": [
            "<class 'pandas.core.frame.DataFrame'>\n",
            "RangeIndex: 1600 entries, 0 to 1599\n",
            "Data columns (total 5 columns):\n",
            " #   Column     Non-Null Count  Dtype \n",
            "---  ------     --------------  ----- \n",
            " 0   deceptive  1600 non-null   object\n",
            " 1   hotel      1600 non-null   object\n",
            " 2   polarity   1600 non-null   object\n",
            " 3   source     1600 non-null   object\n",
            " 4   text       1600 non-null   object\n",
            "dtypes: object(5)\n",
            "memory usage: 62.6+ KB\n"
          ]
        }
      ]
    },
    {
      "cell_type": "code",
      "source": [
        "data.nunique()"
      ],
      "metadata": {
        "colab": {
          "base_uri": "https://localhost:8080/",
          "height": 0
        },
        "id": "rN24Wtwe5m2Z",
        "outputId": "9450e565-36e1-4a52-9a2a-13b586799e38"
      },
      "execution_count": 13,
      "outputs": [
        {
          "output_type": "execute_result",
          "data": {
            "text/plain": [
              "deceptive       2\n",
              "hotel          20\n",
              "polarity        2\n",
              "source          3\n",
              "text         1596\n",
              "dtype: int64"
            ],
            "text/html": [
              "<div>\n",
              "<style scoped>\n",
              "    .dataframe tbody tr th:only-of-type {\n",
              "        vertical-align: middle;\n",
              "    }\n",
              "\n",
              "    .dataframe tbody tr th {\n",
              "        vertical-align: top;\n",
              "    }\n",
              "\n",
              "    .dataframe thead th {\n",
              "        text-align: right;\n",
              "    }\n",
              "</style>\n",
              "<table border=\"1\" class=\"dataframe\">\n",
              "  <thead>\n",
              "    <tr style=\"text-align: right;\">\n",
              "      <th></th>\n",
              "      <th>0</th>\n",
              "    </tr>\n",
              "  </thead>\n",
              "  <tbody>\n",
              "    <tr>\n",
              "      <th>deceptive</th>\n",
              "      <td>2</td>\n",
              "    </tr>\n",
              "    <tr>\n",
              "      <th>hotel</th>\n",
              "      <td>20</td>\n",
              "    </tr>\n",
              "    <tr>\n",
              "      <th>polarity</th>\n",
              "      <td>2</td>\n",
              "    </tr>\n",
              "    <tr>\n",
              "      <th>source</th>\n",
              "      <td>3</td>\n",
              "    </tr>\n",
              "    <tr>\n",
              "      <th>text</th>\n",
              "      <td>1596</td>\n",
              "    </tr>\n",
              "  </tbody>\n",
              "</table>\n",
              "</div><br><label><b>dtype:</b> int64</label>"
            ]
          },
          "metadata": {},
          "execution_count": 13
        }
      ]
    },
    {
      "cell_type": "code",
      "source": [
        "#Overview of the data set:\n",
        "\n",
        "print(\"Number of registers:\", len(data))\n",
        "\n",
        "# Check for NaN values in each column\n",
        "print(\"\\nNaN values per column:\")\n",
        "print(data.isnull().sum())\n",
        "\n",
        "# Check data types of each column\n",
        "print(\"\\nData types per column:\")\n",
        "print(data.dtypes)\n",
        "\n",
        "# Summary statistics for numerical columns\n",
        "print(\"\\nSummary statistics for numerical columns:\")\n",
        "print(data.describe())\n",
        "\n",
        "# Value counts for categorical columns\n",
        "for col in data.columns:\n",
        "  if data[col].dtype == 'object':\n",
        "    print(f'\\nValue counts for column {col}:')\n",
        "    print(data[col].value_counts())\n"
      ],
      "metadata": {
        "colab": {
          "base_uri": "https://localhost:8080/"
        },
        "collapsed": true,
        "id": "BRKtGtPTvLuB",
        "outputId": "28523e07-6105-4fc6-d40c-fb9610d46e35"
      },
      "execution_count": 14,
      "outputs": [
        {
          "output_type": "stream",
          "name": "stdout",
          "text": [
            "Number of registers: 1600\n",
            "\n",
            "NaN values per column:\n",
            "deceptive    0\n",
            "hotel        0\n",
            "polarity     0\n",
            "source       0\n",
            "text         0\n",
            "dtype: int64\n",
            "\n",
            "Data types per column:\n",
            "deceptive    object\n",
            "hotel        object\n",
            "polarity     object\n",
            "source       object\n",
            "text         object\n",
            "dtype: object\n",
            "\n",
            "Summary statistics for numerical columns:\n",
            "       deceptive   hotel  polarity source  \\\n",
            "count       1600    1600      1600   1600   \n",
            "unique         2      20         2      3   \n",
            "top     truthful  conrad  positive  MTurk   \n",
            "freq         800      80       800    800   \n",
            "\n",
            "                                                     text  \n",
            "count                                                1600  \n",
            "unique                                               1596  \n",
            "top     The Omni was chosen for it's location whichwor...  \n",
            "freq                                                    2  \n",
            "\n",
            "Value counts for column deceptive:\n",
            "deceptive\n",
            "truthful     800\n",
            "deceptive    800\n",
            "Name: count, dtype: int64\n",
            "\n",
            "Value counts for column hotel:\n",
            "hotel\n",
            "conrad              80\n",
            "hyatt               80\n",
            "allegro             80\n",
            "intercontinental    80\n",
            "palmer              80\n",
            "sofitel             80\n",
            "monaco              80\n",
            "james               80\n",
            "hilton              80\n",
            "talbott             80\n",
            "hardrock            80\n",
            "affinia             80\n",
            "ambassador          80\n",
            "swissotel           80\n",
            "homewood            80\n",
            "knickerbocker       80\n",
            "sheraton            80\n",
            "fairmont            80\n",
            "omni                80\n",
            "amalfi              80\n",
            "Name: count, dtype: int64\n",
            "\n",
            "Value counts for column polarity:\n",
            "polarity\n",
            "positive    800\n",
            "negative    800\n",
            "Name: count, dtype: int64\n",
            "\n",
            "Value counts for column source:\n",
            "source\n",
            "MTurk          800\n",
            "TripAdvisor    400\n",
            "Web            400\n",
            "Name: count, dtype: int64\n",
            "\n",
            "Value counts for column text:\n",
            "text\n",
            "The Omni was chosen for it's location whichworked out perfectly. The bedding was wondeful and everything seemed fairly clean ...until...I sat down in the tub...there was BLACK MOLD in the soap holder, in the cracks on the walls between the tile, all under the tile overhang above the tub and completely around the toilet bowl. Needless to say I drained the tub and took a shower...I really don't care for showers. Oh yes...the toilet leaked as well...The staff were very helpful but I was disappointed. I travel extensively and don't think I will return. we needed color copies for a business meeting and their printer was broken, so the man in the business center took the jump drive to another part of the hotel, printed the presentation and delivered it to our room. They try! We booked online for a weekend package and got a room on the 10th floor with a view of the windows of another building...but we weren't there too much.\\n                                                                                                                                                                                                                                                                                                                                                                                                                                                                                                                                                                                                                                                                                                                                            2\n",
            "My daughter and I woke in the morning wanting to go swimming. When we arrived at the pool the water was covered by a white scum. I then attempted to use both of the phones at the pool, one white phone and one emergency red phone, to call the desk. Both were out of service!!!! I am glad there wasn't an emergency. As we were exited the pool area I ran into a hotel employee and told her about the problems and then asked her to call us when the pool was clean.... never heard back.\\n                                                                                                                                                                                                                                                                                                                                                                                                                                                                                                                                                                                                                                                                                                                                                                                                                                                                                                                                                                                                                                                                                                                                                                                                              2\n",
            "I'd been searching for a cool, non-chain hotel for a weekend getaway with my boyfriend. I thought I'd found a winner in the Affinia... SOO disappointed!! In spite of the fact that our reservation was for two adults, we arrived to find our room had a DOUBLE bed. What?! I was floored, but after a delayed flight and a 2 hour cab ride, was too tired to make a fuss. We were hungry after all the delays and planned on attending an event that night, so we called for room service hoping to keep it simple. I was told that room service would call ME back to take my order...and nothing happened. I didn't want to be late to our event so we ended up going to the restaurant downstairs. Nothing special; entree, dessert and NAB for two still came out to $*...I am no hayseed, I'm WELL aware that everything costs more in Chicago, but this just wasn't worth it. Our room was by the elevator w/ parking garage view...the bathroom was tiny, shower curtain was stained, funky toilet seat/lid, and the vanity featured that 'rude awakening' lighting normally found in low-rent dressing rooms, i.e., 'Holy crap, have I looked that bad this whole time?!' If you're a traveler who likes using the in-room coffeemaker, they charge for their chintzy coffees (I don't use these, but... come on). Nice enough ambience in the upstairs bar, but weak drinks... That night, our bed was so tiny and uncomfortable that I almost asked to switch rooms. But the Marathon was that weekend; the hotel was so busy I didn't want to be a pest. I can't believe I was so impressed with this place online. Next time I'll happily pay more to stay someplace that's actually a treat.\\n    2\n",
            "Very disappointed in our stay in Chicago Monoco. We have stayed many times elsewhere, primarily in washington DC and are accustomed to great customer service, beverages like water or soda at the wine bar, coffee and papers in the morning, help with bags. Not only did the Chicago monoco do none of these things, the staff was not helpful, either. Requests were not honored and the staff did not seem happy to be there. YOu got the feeling you were 'bothering' people if you asked a question. No bellman, the doorman did not open the door or help with bags. Even though we were traveling with a child, I had to request a fish when they did not bring it. Really baffling.. as we love the Monoco in Washington.\\n                                                                                                                                                                                                                                                                                                                                                                                                                                                                                                                                                                                                                                                                                                                                                                                                                                                                                                                                                                            2\n",
            "We stayed for a one night getaway with family on a thursday. Triple AAA rate of 173 was a steal. 7th floor room complete with 44in plasma TV bose stereo, voss and evian water, and gorgeous bathroom(no tub but was fine for us) Concierge was very helpful. You cannot beat this location... Only flaw was breakfast was pricey and service was very very slow(2hours for four kids and four adults on a friday morning) even though there were only two other tables in the restaurant. Food was very good so it was worth the wait. I would return in a heartbeat. A gem in chicago... \\n                                                                                                                                                                                                                                                                                                                                                                                                                                                                                                                                                                                                                                                                                                                                                                                                                                                                                                                                                                                                                                                                                                                    1\n",
            "                                                                                                                                                                                                                                                                                                                                                                                                                                                                                                                                                                                                                                                                                                                                                                                                                                                                                                                                                                                                                                                                                                                                                                                                                                                                                                                                                                                                                                                                                                                                                                                                                                                                                                                ..\n",
            "The Swissotel Chicago is a delight to visit. Located in downtown Chicago this hotel has nine different styles of room accommodations to serve everyones taste. They have children friendly rooms as well as the exquisite presidential suite. Rooms have exceptional views of downtown Chicago. This hotel also has a penthouse fitness center and pool for entertainment. Other places to stop by to eat is the Palms, Geneva and the Lobby Lounge.\\n                                                                                                                                                                                                                                                                                                                                                                                                                                                                                                                                                                                                                                                                                                                                                                                                                                                                                                                                                                                                                                                                                                                                                                                                                                                           1\n",
            "My family and I recently attended a wedding in Chicago and stayed at the Swissotel. It was much nicer than we expected. We are used to staying at mid-class hotels and this, by far, was one of the nicest places we've stayed. The beds were so comfortable and the crib the provided for my infant son was great quality - I was concerned that we would get a rickety 1970s crib! The bed sheets were so soft that I wanted to take them home! We will definitely go back to this hotel the next time we are in Chicago.\\n                                                                                                                                                                                                                                                                                                                                                                                                                                                                                                                                                                                                                                                                                                                                                                                                                                                                                                                                                                                                                                                                                                                                                                                    1\n",
            "My family really enjoyed this hotel the weekend we were in Chicago. Check in was quick and easy the staff was friendly and very helpful. The room was clean, the beds were comfortable and we had a great view of Chicago. Next time we come to Chicago we will definitely stay here again.\\n                                                                                                                                                                                                                                                                                                                                                                                                                                                                                                                                                                                                                                                                                                                                                                                                                                                                                                                                                                                                                                                                                                                                                                                                                                                                                                                                                                                                                    1\n",
            "This is the hotel for the discriminating business traveler. It offers spacious rooms that are elegant and refined. With a cozy area complete with chairs and fireplace, they are the perfect place to entertain clients or discuss strategy for a business meeting with a colleague. The restaurant offers just the location to impress a perspective client. And all of this elegance and refinement in the heart of downtown Chicago\\n                                                                                                                                                                                                                                                                                                                                                                                                                                                                                                                                                                                                                                                                                                                                                                                                                                                                                                                                                                                                                                                                                                                                                                                                                                                                         1\n",
            "As a former Chicagoan, I'm appalled at the Amalfi Hotel Chicago. First of all, I was expecting luxury and hospitality, neither of which I received. There's an Experience Designer who is supposed to be like a 'personal concierge,' but my experience with my ED was terrible. I felt like he was trying to pressure me into staying more days than I wanted to. Not only that, but I couldn't understand what he was saying most of the time because he was talking so fast. When I finally got to my room, I was disappointed with the quality of the furniture and the room's cleanliness. I had to ask for a maid to come and give me clean towels because some of the towels in the bathroom were damp. On top of that, the bed was messily done; I could have done a better job on my own bed at home. I was angry at this point, because I was paying a lot of money for every night I was staying at Amalfi, and I didn't expect to be greeted with wet towels. I needed to use the Wi-Fi to download some important documents, and the internet was surprisingly slow. Even a very basic hotel or motel could have offered better, maybe even faster internet access. When I finally checked out of the Amalfi, I made sure that my supposed personal concierge knew all of the problems I'd had with my room and the hotel. I was glad to see the Amalfi getting smaller in the mirror as I drove away!\\n                                                                                                                                                                                                                                                                                            1\n",
            "Name: count, Length: 1596, dtype: int64\n"
          ]
        }
      ]
    },
    {
      "cell_type": "markdown",
      "source": [
        "## Preprocessing the dataset:"
      ],
      "metadata": {
        "id": "Wp1YUUCZwsII"
      }
    },
    {
      "cell_type": "code",
      "source": [
        "df = data[['text', 'polarity']].copy()      #Just two main columns are needed\n",
        "df = df.rename(columns={'text': 'original_review'})\n",
        "df['long_NumWords'] = df['original_review'].str.split().str.len()\n",
        "df['review'] = df['original_review'].apply(preprocesar)\n",
        "df['prep_NumWords'] = df['review'].str.split().str.len()\n",
        "\n",
        "df['polarity'] = df['polarity'].apply(convert_polarity)\n",
        "\n",
        "df.head()"
      ],
      "metadata": {
        "colab": {
          "base_uri": "https://localhost:8080/",
          "height": 0
        },
        "id": "O59r0WrCwD6e",
        "outputId": "5706be7d-3a81-49a2-bd08-aef2d875ae6a"
      },
      "execution_count": 15,
      "outputs": [
        {
          "output_type": "execute_result",
          "data": {
            "text/plain": [
              "                                     original_review  polarity  long_NumWords  \\\n",
              "0  We stayed for a one night getaway with family ...         1            105   \n",
              "1  Triple A rate with upgrade to view room was le...         1             45   \n",
              "2  This comes a little late as I'm finally catchi...         1            207   \n",
              "3  The Omni Chicago really delivers on all fronts...         1            127   \n",
              "4  I asked for a high floor away from the elevato...         1             72   \n",
              "\n",
              "                                              review  prep_NumWords  \n",
              "0  stay one night getaway famili thursday tripl a...             58  \n",
              "1  tripl rate upgrad view room less also includ b...             30  \n",
              "2  come littl late final catch review past sever ...            104  \n",
              "3  omni chicago realli deliv front spacious room ...             63  \n",
              "4  ask high floor away elev got room pleasantli d...             33  "
            ],
            "text/html": [
              "\n",
              "  <div id=\"df-213df962-71d4-46cf-af55-e03deb4617af\" class=\"colab-df-container\">\n",
              "    <div>\n",
              "<style scoped>\n",
              "    .dataframe tbody tr th:only-of-type {\n",
              "        vertical-align: middle;\n",
              "    }\n",
              "\n",
              "    .dataframe tbody tr th {\n",
              "        vertical-align: top;\n",
              "    }\n",
              "\n",
              "    .dataframe thead th {\n",
              "        text-align: right;\n",
              "    }\n",
              "</style>\n",
              "<table border=\"1\" class=\"dataframe\">\n",
              "  <thead>\n",
              "    <tr style=\"text-align: right;\">\n",
              "      <th></th>\n",
              "      <th>original_review</th>\n",
              "      <th>polarity</th>\n",
              "      <th>long_NumWords</th>\n",
              "      <th>review</th>\n",
              "      <th>prep_NumWords</th>\n",
              "    </tr>\n",
              "  </thead>\n",
              "  <tbody>\n",
              "    <tr>\n",
              "      <th>0</th>\n",
              "      <td>We stayed for a one night getaway with family ...</td>\n",
              "      <td>1</td>\n",
              "      <td>105</td>\n",
              "      <td>stay one night getaway famili thursday tripl a...</td>\n",
              "      <td>58</td>\n",
              "    </tr>\n",
              "    <tr>\n",
              "      <th>1</th>\n",
              "      <td>Triple A rate with upgrade to view room was le...</td>\n",
              "      <td>1</td>\n",
              "      <td>45</td>\n",
              "      <td>tripl rate upgrad view room less also includ b...</td>\n",
              "      <td>30</td>\n",
              "    </tr>\n",
              "    <tr>\n",
              "      <th>2</th>\n",
              "      <td>This comes a little late as I'm finally catchi...</td>\n",
              "      <td>1</td>\n",
              "      <td>207</td>\n",
              "      <td>come littl late final catch review past sever ...</td>\n",
              "      <td>104</td>\n",
              "    </tr>\n",
              "    <tr>\n",
              "      <th>3</th>\n",
              "      <td>The Omni Chicago really delivers on all fronts...</td>\n",
              "      <td>1</td>\n",
              "      <td>127</td>\n",
              "      <td>omni chicago realli deliv front spacious room ...</td>\n",
              "      <td>63</td>\n",
              "    </tr>\n",
              "    <tr>\n",
              "      <th>4</th>\n",
              "      <td>I asked for a high floor away from the elevato...</td>\n",
              "      <td>1</td>\n",
              "      <td>72</td>\n",
              "      <td>ask high floor away elev got room pleasantli d...</td>\n",
              "      <td>33</td>\n",
              "    </tr>\n",
              "  </tbody>\n",
              "</table>\n",
              "</div>\n",
              "    <div class=\"colab-df-buttons\">\n",
              "\n",
              "  <div class=\"colab-df-container\">\n",
              "    <button class=\"colab-df-convert\" onclick=\"convertToInteractive('df-213df962-71d4-46cf-af55-e03deb4617af')\"\n",
              "            title=\"Convert this dataframe to an interactive table.\"\n",
              "            style=\"display:none;\">\n",
              "\n",
              "  <svg xmlns=\"http://www.w3.org/2000/svg\" height=\"24px\" viewBox=\"0 -960 960 960\">\n",
              "    <path d=\"M120-120v-720h720v720H120Zm60-500h600v-160H180v160Zm220 220h160v-160H400v160Zm0 220h160v-160H400v160ZM180-400h160v-160H180v160Zm440 0h160v-160H620v160ZM180-180h160v-160H180v160Zm440 0h160v-160H620v160Z\"/>\n",
              "  </svg>\n",
              "    </button>\n",
              "\n",
              "  <style>\n",
              "    .colab-df-container {\n",
              "      display:flex;\n",
              "      gap: 12px;\n",
              "    }\n",
              "\n",
              "    .colab-df-convert {\n",
              "      background-color: #E8F0FE;\n",
              "      border: none;\n",
              "      border-radius: 50%;\n",
              "      cursor: pointer;\n",
              "      display: none;\n",
              "      fill: #1967D2;\n",
              "      height: 32px;\n",
              "      padding: 0 0 0 0;\n",
              "      width: 32px;\n",
              "    }\n",
              "\n",
              "    .colab-df-convert:hover {\n",
              "      background-color: #E2EBFA;\n",
              "      box-shadow: 0px 1px 2px rgba(60, 64, 67, 0.3), 0px 1px 3px 1px rgba(60, 64, 67, 0.15);\n",
              "      fill: #174EA6;\n",
              "    }\n",
              "\n",
              "    .colab-df-buttons div {\n",
              "      margin-bottom: 4px;\n",
              "    }\n",
              "\n",
              "    [theme=dark] .colab-df-convert {\n",
              "      background-color: #3B4455;\n",
              "      fill: #D2E3FC;\n",
              "    }\n",
              "\n",
              "    [theme=dark] .colab-df-convert:hover {\n",
              "      background-color: #434B5C;\n",
              "      box-shadow: 0px 1px 3px 1px rgba(0, 0, 0, 0.15);\n",
              "      filter: drop-shadow(0px 1px 2px rgba(0, 0, 0, 0.3));\n",
              "      fill: #FFFFFF;\n",
              "    }\n",
              "  </style>\n",
              "\n",
              "    <script>\n",
              "      const buttonEl =\n",
              "        document.querySelector('#df-213df962-71d4-46cf-af55-e03deb4617af button.colab-df-convert');\n",
              "      buttonEl.style.display =\n",
              "        google.colab.kernel.accessAllowed ? 'block' : 'none';\n",
              "\n",
              "      async function convertToInteractive(key) {\n",
              "        const element = document.querySelector('#df-213df962-71d4-46cf-af55-e03deb4617af');\n",
              "        const dataTable =\n",
              "          await google.colab.kernel.invokeFunction('convertToInteractive',\n",
              "                                                    [key], {});\n",
              "        if (!dataTable) return;\n",
              "\n",
              "        const docLinkHtml = 'Like what you see? Visit the ' +\n",
              "          '<a target=\"_blank\" href=https://colab.research.google.com/notebooks/data_table.ipynb>data table notebook</a>'\n",
              "          + ' to learn more about interactive tables.';\n",
              "        element.innerHTML = '';\n",
              "        dataTable['output_type'] = 'display_data';\n",
              "        await google.colab.output.renderOutput(dataTable, element);\n",
              "        const docLink = document.createElement('div');\n",
              "        docLink.innerHTML = docLinkHtml;\n",
              "        element.appendChild(docLink);\n",
              "      }\n",
              "    </script>\n",
              "  </div>\n",
              "\n",
              "\n",
              "    <div id=\"df-59a14907-5b74-4c4a-8513-e1879b38e84f\">\n",
              "      <button class=\"colab-df-quickchart\" onclick=\"quickchart('df-59a14907-5b74-4c4a-8513-e1879b38e84f')\"\n",
              "                title=\"Suggest charts\"\n",
              "                style=\"display:none;\">\n",
              "\n",
              "<svg xmlns=\"http://www.w3.org/2000/svg\" height=\"24px\"viewBox=\"0 0 24 24\"\n",
              "     width=\"24px\">\n",
              "    <g>\n",
              "        <path d=\"M19 3H5c-1.1 0-2 .9-2 2v14c0 1.1.9 2 2 2h14c1.1 0 2-.9 2-2V5c0-1.1-.9-2-2-2zM9 17H7v-7h2v7zm4 0h-2V7h2v10zm4 0h-2v-4h2v4z\"/>\n",
              "    </g>\n",
              "</svg>\n",
              "      </button>\n",
              "\n",
              "<style>\n",
              "  .colab-df-quickchart {\n",
              "      --bg-color: #E8F0FE;\n",
              "      --fill-color: #1967D2;\n",
              "      --hover-bg-color: #E2EBFA;\n",
              "      --hover-fill-color: #174EA6;\n",
              "      --disabled-fill-color: #AAA;\n",
              "      --disabled-bg-color: #DDD;\n",
              "  }\n",
              "\n",
              "  [theme=dark] .colab-df-quickchart {\n",
              "      --bg-color: #3B4455;\n",
              "      --fill-color: #D2E3FC;\n",
              "      --hover-bg-color: #434B5C;\n",
              "      --hover-fill-color: #FFFFFF;\n",
              "      --disabled-bg-color: #3B4455;\n",
              "      --disabled-fill-color: #666;\n",
              "  }\n",
              "\n",
              "  .colab-df-quickchart {\n",
              "    background-color: var(--bg-color);\n",
              "    border: none;\n",
              "    border-radius: 50%;\n",
              "    cursor: pointer;\n",
              "    display: none;\n",
              "    fill: var(--fill-color);\n",
              "    height: 32px;\n",
              "    padding: 0;\n",
              "    width: 32px;\n",
              "  }\n",
              "\n",
              "  .colab-df-quickchart:hover {\n",
              "    background-color: var(--hover-bg-color);\n",
              "    box-shadow: 0 1px 2px rgba(60, 64, 67, 0.3), 0 1px 3px 1px rgba(60, 64, 67, 0.15);\n",
              "    fill: var(--button-hover-fill-color);\n",
              "  }\n",
              "\n",
              "  .colab-df-quickchart-complete:disabled,\n",
              "  .colab-df-quickchart-complete:disabled:hover {\n",
              "    background-color: var(--disabled-bg-color);\n",
              "    fill: var(--disabled-fill-color);\n",
              "    box-shadow: none;\n",
              "  }\n",
              "\n",
              "  .colab-df-spinner {\n",
              "    border: 2px solid var(--fill-color);\n",
              "    border-color: transparent;\n",
              "    border-bottom-color: var(--fill-color);\n",
              "    animation:\n",
              "      spin 1s steps(1) infinite;\n",
              "  }\n",
              "\n",
              "  @keyframes spin {\n",
              "    0% {\n",
              "      border-color: transparent;\n",
              "      border-bottom-color: var(--fill-color);\n",
              "      border-left-color: var(--fill-color);\n",
              "    }\n",
              "    20% {\n",
              "      border-color: transparent;\n",
              "      border-left-color: var(--fill-color);\n",
              "      border-top-color: var(--fill-color);\n",
              "    }\n",
              "    30% {\n",
              "      border-color: transparent;\n",
              "      border-left-color: var(--fill-color);\n",
              "      border-top-color: var(--fill-color);\n",
              "      border-right-color: var(--fill-color);\n",
              "    }\n",
              "    40% {\n",
              "      border-color: transparent;\n",
              "      border-right-color: var(--fill-color);\n",
              "      border-top-color: var(--fill-color);\n",
              "    }\n",
              "    60% {\n",
              "      border-color: transparent;\n",
              "      border-right-color: var(--fill-color);\n",
              "    }\n",
              "    80% {\n",
              "      border-color: transparent;\n",
              "      border-right-color: var(--fill-color);\n",
              "      border-bottom-color: var(--fill-color);\n",
              "    }\n",
              "    90% {\n",
              "      border-color: transparent;\n",
              "      border-bottom-color: var(--fill-color);\n",
              "    }\n",
              "  }\n",
              "</style>\n",
              "\n",
              "      <script>\n",
              "        async function quickchart(key) {\n",
              "          const quickchartButtonEl =\n",
              "            document.querySelector('#' + key + ' button');\n",
              "          quickchartButtonEl.disabled = true;  // To prevent multiple clicks.\n",
              "          quickchartButtonEl.classList.add('colab-df-spinner');\n",
              "          try {\n",
              "            const charts = await google.colab.kernel.invokeFunction(\n",
              "                'suggestCharts', [key], {});\n",
              "          } catch (error) {\n",
              "            console.error('Error during call to suggestCharts:', error);\n",
              "          }\n",
              "          quickchartButtonEl.classList.remove('colab-df-spinner');\n",
              "          quickchartButtonEl.classList.add('colab-df-quickchart-complete');\n",
              "        }\n",
              "        (() => {\n",
              "          let quickchartButtonEl =\n",
              "            document.querySelector('#df-59a14907-5b74-4c4a-8513-e1879b38e84f button');\n",
              "          quickchartButtonEl.style.display =\n",
              "            google.colab.kernel.accessAllowed ? 'block' : 'none';\n",
              "        })();\n",
              "      </script>\n",
              "    </div>\n",
              "\n",
              "    </div>\n",
              "  </div>\n"
            ],
            "application/vnd.google.colaboratory.intrinsic+json": {
              "type": "dataframe",
              "variable_name": "df",
              "summary": "{\n  \"name\": \"df\",\n  \"rows\": 1600,\n  \"fields\": [\n    {\n      \"column\": \"original_review\",\n      \"properties\": {\n        \"dtype\": \"string\",\n        \"num_unique_values\": 1596,\n        \"samples\": [\n          \"We booked thru hotwire which we have a high percentage of positive outcomes. I was very happy when we saw that we would be staying at The Knickerbocker-as I had stayed when I was younger. We reserved a King Non-Smoker. Upon arriving we were told that they did not have that and we only had the choice of a Smoking room. When argued they stated 'well you booked thru hotwire so you do not have priority'. As we entered the room I noticed the bathroom door was off track and the bathroom light did not turn on. We called the front desk and they fixed the door but not the light. Later that eveing as I took a shower the seal around the shower was so poor water got all over the floor and towels. Also, I must add the room reaked of smoke. The next day when we checked the front desk clerk asked how our stay was and when we told him the problems, he told us the total and had not concern of our issues. We also checked in our bags for the day, and the bellmen came quickly and made very rude comments about us hurrying up so he could get on with his day. We realized a bit later that we forgot something in one of the bags and was told they would not get them back out. STAY AWAY-even if you get a good deal!!\\n\",\n          \"This hotel is rather stupid to be frank. It's a horrible attempt to be retro-sheek but ends up looking similar to that Saturday Night live skit where things are so sheek that they are not functional. The rooms are about the size of a shoe box and there isn't much in them. I actually like the Pedestal in the bathroom but there is no sink. I had to put my make-up on using the toliet for 5-days. It also took me 10-minutes to figure out how to turn on the shower and the bathroom is more like a closet then anything. I had guests over one evening and everyone could hear everyone pee b/c the bathroom doors aren't doors at all and there is no bathroom fan! It was just over the top for me and lots of costruction nearby to keep you up at night. On a good note, the staff are really friendly and the place is really clean. That's about the only good thing I can say about this place. I would not go back.\\n\",\n          \"I have stayed in hotels all over the world, and this is probably the worst service that I've ever experienced. The staff was unaccomodating and the hotel did not provide the services that it claimed it would. I decided to try the Monaco because it seemed interesting, was close to the theater, and had what seemed to be a good rate. What a huge mistake. The front desk staff was condescending and not even remotely helpful. The room was not clean, the gold fish we had requested came many hours after we told them we would be arriving, they never bothered to come turn down the beds, and the late check-out 'priviledges' which were guarenteed when I booked the room suddenly became 'upon request' - boy the extra 30 minutes they gave me sure were helpful. Dont' waste your time or your money here. At best, it's nothing special. Personally, I like the Fairmont in Chicago, but anyplace woudl be better than the Monaco.\\n\"\n        ],\n        \"semantic_type\": \"\",\n        \"description\": \"\"\n      }\n    },\n    {\n      \"column\": \"polarity\",\n      \"properties\": {\n        \"dtype\": \"number\",\n        \"std\": 0,\n        \"min\": 0,\n        \"max\": 1,\n        \"num_unique_values\": 2,\n        \"samples\": [\n          0,\n          1\n        ],\n        \"semantic_type\": \"\",\n        \"description\": \"\"\n      }\n    },\n    {\n      \"column\": \"long_NumWords\",\n      \"properties\": {\n        \"dtype\": \"number\",\n        \"std\": 87,\n        \"min\": 25,\n        \"max\": 784,\n        \"num_unique_values\": 328,\n        \"samples\": [\n          302,\n          181\n        ],\n        \"semantic_type\": \"\",\n        \"description\": \"\"\n      }\n    },\n    {\n      \"column\": \"review\",\n      \"properties\": {\n        \"dtype\": \"string\",\n        \"num_unique_values\": 1596,\n        \"samples\": [\n          \"book thru hotwir high percentag posit outcom happi saw would stay knickerbock stay younger reserv king non smoker upon arriv told choic smoke room argu state well book thru hotwir prioriti enter room notic bathroom door track bathroom light turn call front desk fix door light later eve took shower seal around shower poor water got floor towel also must add room reak smoke next day check front desk clerk ask stay told problem told us total concern issu also check bag day bellmen came quickli made rude comment us hurri could get day realiz bit later forgot someth one bag told would get back stay away even get good deal\",\n          \"hotel rather stupid frank horribl attempt retro sheek end look similar saturday night live skit thing sheek function room size shoe box much actual like pedest bathroom sink put make use toliet day also took minut figur turn shower bathroom like closet anyth guest one even everyon could hear everyon pee b c bathroom door door bathroom fan top lot costruct nearbi keep night good note staff realli friendli place realli clean good thing say place would go back\"\n        ],\n        \"semantic_type\": \"\",\n        \"description\": \"\"\n      }\n    },\n    {\n      \"column\": \"prep_NumWords\",\n      \"properties\": {\n        \"dtype\": \"number\",\n        \"std\": 41,\n        \"min\": 13,\n        \"max\": 380,\n        \"num_unique_values\": 191,\n        \"samples\": [\n          112,\n          57\n        ],\n        \"semantic_type\": \"\",\n        \"description\": \"\"\n      }\n    }\n  ]\n}"
            }
          },
          "metadata": {},
          "execution_count": 15
        }
      ]
    },
    {
      "cell_type": "markdown",
      "source": [
        "## Prepare the reviews that will be input to our neural network.\n",
        "\n",
        "Padding: The LSTM layers require each sequence (sentence) to be the same length. Any length can be used, but the longer the length, the higher the training cost.\n",
        "\n",
        "Shorter sentences will be \"padded\" with the token we added earlier ('PAD_token')."
      ],
      "metadata": {
        "id": "k4Z5MDU_uVxR"
      }
    },
    {
      "cell_type": "code",
      "source": [
        "# Calculate the number of words in each review\n",
        "word_count = df['review'].apply(lambda x: len(x.split()))\n",
        "word_count.hist(bins=30)\n",
        "plt.show()\n",
        "\n",
        "print('The mean number of words per review is: {}'.format(word_count.mean()))\n",
        "print('The largest review has {} tokens'.format(word_count.max()))\n",
        "print()"
      ],
      "metadata": {
        "colab": {
          "base_uri": "https://localhost:8080/",
          "height": 482
        },
        "id": "Uk_Jx5-UuvBn",
        "outputId": "2c50632a-263c-4a65-a33f-d709b687cd04"
      },
      "execution_count": 16,
      "outputs": [
        {
          "output_type": "display_data",
          "data": {
            "text/plain": [
              "<Figure size 640x480 with 1 Axes>"
            ],
            "image/png": "[encoded data removed]"
          },
          "metadata": {}
        },
        {
          "output_type": "stream",
          "name": "stdout",
          "text": [
            "The mean number of words per review is: 72.498125\n",
            "The largest review has 380 tokens\n",
            "\n"
          ]
        }
      ]
    },
    {
      "cell_type": "code",
      "source": [
        "# Fixed maximum length for padding\n",
        "max_len = int(word_count.quantile(0.99))\n",
        "max_len"
      ],
      "metadata": {
        "colab": {
          "base_uri": "https://localhost:8080/"
        },
        "id": "AMmexlFjyJ1S",
        "outputId": "da5b5cf6-3b84-41e0-9dc1-b7f2445e5081"
      },
      "execution_count": 17,
      "outputs": [
        {
          "output_type": "execute_result",
          "data": {
            "text/plain": [
              "216"
            ]
          },
          "metadata": {},
          "execution_count": 17
        }
      ]
    },
    {
      "cell_type": "markdown",
      "source": [
        "### Tokenization and padding:"
      ],
      "metadata": {
        "id": "xeDE8fl78dJm"
      }
    },
    {
      "cell_type": "code",
      "source": [
        "# Combine all reviews into a single string\n",
        "all_reviews = ' '.join(df['review'])\n",
        "\n",
        "# Split the string into words\n",
        "words = all_reviews.split()\n",
        "print(\"Number of words in the all reviews: {}\".format(len(words)))\n",
        "print(\"Number of unique words in the all reviews: {}\".format(len(set(words))))"
      ],
      "metadata": {
        "colab": {
          "base_uri": "https://localhost:8080/"
        },
        "id": "0G_6SAzw8f1x",
        "outputId": "787db7d9-4e30-4c14-ccd5-de99cb6f041e"
      },
      "execution_count": 18,
      "outputs": [
        {
          "output_type": "stream",
          "name": "stdout",
          "text": [
            "Number of words in the all reviews: 115997\n",
            "Number of unique words in the all reviews: 6368\n"
          ]
        }
      ]
    },
    {
      "cell_type": "code",
      "source": [
        "unique_words = set(words)\n",
        "#print(unique_words)"
      ],
      "metadata": {
        "id": "ad8i-J75DwEi"
      },
      "execution_count": 19,
      "outputs": []
    },
    {
      "cell_type": "code",
      "source": [
        "# Tokenization\n",
        "tokenizer = Tokenizer(num_words=None, oov_token='<OOV>') # oov_token para palabras fuera del vocabulario\n",
        "tokenizer.fit_on_texts(df['review'])\n",
        "sequences = tokenizer.texts_to_sequences(df['review'])\n",
        "\n",
        "# Padding\n",
        "padded_sequences = pad_sequences(sequences, maxlen=max_len, padding='post', truncating='post')\n"
      ],
      "metadata": {
        "id": "FHuX07kE2Pkz"
      },
      "execution_count": 20,
      "outputs": []
    },
    {
      "cell_type": "code",
      "source": [
        "print(\"Padding Matrix shape:\", padded_sequences.shape)"
      ],
      "metadata": {
        "colab": {
          "base_uri": "https://localhost:8080/"
        },
        "id": "yBP2e1Ot_2J7",
        "outputId": "33d6903d-7885-449e-f716-1c44403d795a"
      },
      "execution_count": 21,
      "outputs": [
        {
          "output_type": "stream",
          "name": "stdout",
          "text": [
            "Padding Matrix shape: (1600, 216)\n"
          ]
        }
      ]
    },
    {
      "cell_type": "code",
      "source": [
        "# Example usage with a single review\n",
        "example_review = df['review'][10]\n",
        "print(\"Original review:\", example_review)\n",
        "\n",
        "# Tokenize the example review\n",
        "example_sequence = tokenizer.texts_to_sequences([example_review])\n",
        "print(\"\\nTokenized sequence:\", example_sequence)\n",
        "\n",
        "# Pad the example sequence\n",
        "example_padded_sequence = pad_sequences(example_sequence, maxlen=max_len, padding='post', truncating='post')\n",
        "print(\"\\nPadded sequence:\", example_padded_sequence)\n"
      ],
      "metadata": {
        "colab": {
          "base_uri": "https://localhost:8080/"
        },
        "id": "JvZnD88a-kZj",
        "outputId": "8846cb4f-dab5-4778-df7a-acb567b50657"
      },
      "execution_count": 22,
      "outputs": [
        {
          "output_type": "stream",
          "name": "stdout",
          "text": [
            "Original review: stay fairmont chicago one night frequent busi travel familiar travel ritual check late almost pm due flight cancel home airport atlanta took shuttl airport best option lieu price taxi first time stay hotel upon arriv immedi notic entranc appear welcom warm check problem desk person even ask would prefer king doubl reconfirm reserv prefer alway take king bed fantast suit great linen incred feather pillow name encompass made pillow factori check tag sinc plan buy ate dinner hotel restaur aria mention like consid separ hotel ye stand food asian fusion truli wonder gourmand life long foodi appreci great food tast hotel servic good well drawback breakfast buffet restaur seem need stick dinner theme sole miss mark rel simpli thing like scrambl egg buffet tast bit metal made get special order made immedi pass buffet would highli recommend hotel atmospher great view get room one fabul dinner pass breakfast buffet\n",
            "\n",
            "Tokenized sequence: [[4, 261, 5, 11, 10, 642, 45, 88, 2895, 88, 2896, 16, 294, 274, 326, 484, 627, 568, 160, 612, 2897, 107, 1169, 612, 83, 359, 3735, 52, 717, 41, 14, 4, 2, 180, 42, 393, 372, 795, 485, 354, 430, 16, 132, 22, 130, 21, 56, 6, 643, 154, 346, 2898, 50, 643, 212, 90, 154, 12, 262, 65, 8, 494, 394, 1338, 220, 356, 3736, 55, 220, 1967, 16, 1650, 194, 298, 1416, 753, 223, 2, 44, 1265, 386, 17, 431, 640, 2, 589, 821, 76, 2440, 3737, 486, 98, 3738, 613, 145, 3739, 737, 8, 76, 456, 2, 7, 30, 40, 2163, 75, 577, 44, 78, 67, 1968, 223, 1211, 1969, 558, 997, 1033, 493, 93, 17, 2164, 933, 577, 456, 208, 2165, 55, 13, 302, 189, 55, 393, 569, 577, 6, 216, 36, 2, 446, 8, 39, 13, 3, 11, 509, 223, 569, 75, 577]]\n",
            "\n",
            "Padded sequence: [[   4  261    5   11   10  642   45   88 2895   88 2896   16  294  274\n",
            "   326  484  627  568  160  612 2897  107 1169  612   83  359 3735   52\n",
            "   717   41   14    4    2  180   42  393  372  795  485  354  430   16\n",
            "   132   22  130   21   56    6  643  154  346 2898   50  643  212   90\n",
            "   154   12  262   65    8  494  394 1338  220  356 3736   55  220 1967\n",
            "    16 1650  194  298 1416  753  223    2   44 1265  386   17  431  640\n",
            "     2  589  821   76 2440 3737  486   98 3738  613  145 3739  737    8\n",
            "    76  456    2    7   30   40 2163   75  577   44   78   67 1968  223\n",
            "  1211 1969  558  997 1033  493   93   17 2164  933  577  456  208 2165\n",
            "    55   13  302  189   55  393  569  577    6  216   36    2  446    8\n",
            "    39   13    3   11  509  223  569   75  577    0    0    0    0    0\n",
            "     0    0    0    0    0    0    0    0    0    0    0    0    0    0\n",
            "     0    0    0    0    0    0    0    0    0    0    0    0    0    0\n",
            "     0    0    0    0    0    0    0    0    0    0    0    0    0    0\n",
            "     0    0    0    0    0    0    0    0    0    0    0    0    0    0\n",
            "     0    0    0    0    0    0]]\n"
          ]
        }
      ]
    },
    {
      "cell_type": "markdown",
      "source": [
        "## Embedding:"
      ],
      "metadata": {
        "id": "JHoNEQH--K0G"
      }
    },
    {
      "cell_type": "code",
      "source": [
        "# from google.colab import drive\n",
        "# drive.mount('/content/drive')"
      ],
      "metadata": {
        "id": "q5RI9236-GSh"
      },
      "execution_count": 106,
      "outputs": []
    },
    {
      "cell_type": "code",
      "source": [
        "# !pip install --upgrade gdown"
      ],
      "metadata": {
        "collapsed": true,
        "id": "MHwZJTVP-N-Y"
      },
      "execution_count": 107,
      "outputs": []
    },
    {
      "cell_type": "code",
      "source": [
        "# import gdown\n",
        "\n",
        "# # ID del archivo y nombre de destino\n",
        "# file_id = \"0B7XkCwpI5KDYNlNUTTlSS21pQmM\"\n",
        "# destination = \"/content/drive/MyDrive/TrackCienciaDeDatos/Word2Vec/GoogleNews-vectors-negative300.bin.gz\"\n",
        "\n",
        "# # Descargar el archivo\n",
        "# gdown.download(f\"https://drive.google.com/uc?id={file_id}\", destination, quiet=False)"
      ],
      "metadata": {
        "id": "1eFXkUOX-b7_"
      },
      "execution_count": 108,
      "outputs": []
    },
    {
      "cell_type": "code",
      "source": [
        "from gensim.models import KeyedVectors\n",
        "\n",
        "path = \"/content/drive/MyDrive/TrackCienciaDeDatos/Word2Vec/GoogleNews-vectors-negative300.bin.gz\"\n",
        "w2v_model = KeyedVectors.load_word2vec_format(path, binary=True)"
      ],
      "metadata": {
        "id": "--EdPnPB-6Ku"
      },
      "execution_count": 23,
      "outputs": []
    },
    {
      "cell_type": "code",
      "source": [
        "word_index = tokenizer.word_index\n",
        "num_tokens = len(word_index) + 1  # +1 by the padding\n",
        "embedding_dim = 300\n"
      ],
      "metadata": {
        "id": "ujGUf4Ak_V4g"
      },
      "execution_count": 27,
      "outputs": []
    },
    {
      "cell_type": "code",
      "source": [
        "embedding_matrix = np.zeros((num_tokens, embedding_dim))\n",
        "\n",
        "for word, i in word_index.items():\n",
        "    if word in w2v_model:\n",
        "        embedding_matrix[i] = w2v_model[word]"
      ],
      "metadata": {
        "id": "c-651J4p_dZ6"
      },
      "execution_count": 28,
      "outputs": []
    },
    {
      "cell_type": "code",
      "source": [
        "print(\"Embedding Matrix Shape:\", embedding_matrix.shape)\n",
        "print(\"Example vector, first 5 values:\", embedding_matrix[3][:5])"
      ],
      "metadata": {
        "colab": {
          "base_uri": "https://localhost:8080/"
        },
        "id": "xgl88ISe_j2V",
        "outputId": "8ab762f0-1024-4d29-d5ef-a24215425e44"
      },
      "execution_count": 29,
      "outputs": [
        {
          "output_type": "stream",
          "name": "stdout",
          "text": [
            "Embedding Matrix Shape: (6370, 300)\n",
            "Example vector, first 5 values: [ 0.02624512  0.1328125  -0.0234375   0.09130859  0.01806641]\n"
          ]
        }
      ]
    },
    {
      "cell_type": "markdown",
      "source": [
        "## Obtener la matriz de encajes para todas las palabras del vocabulario (borrar)"
      ],
      "metadata": {
        "id": "M60YWLZGAbFY"
      }
    },
    {
      "cell_type": "markdown",
      "source": [
        "<h2> Modelo Preentrenado Word2Vec<h3>\n",
        "\n",
        "Utilizaremos los vectores word2vec preentrenados con el corpus GoogleNews.\n",
        "Cuenta con 3 millones vectores de 300 dimensiones correspondientes a 3 millones de palabras y frases en inglés.\n",
        "Crea un acceso directo en tu drive del modelo preentrenado que está disponible en este [enlace](https://drive.google.com/file/d/0B7XkCwpI5KDYNlNUTTlSS21pQmM/edit?resourcekey=0-wjGZdNAUop6WykTtMip30g)\n"
      ],
      "metadata": {
        "id": "tkZYgz59Ag09"
      }
    },
    {
      "cell_type": "code",
      "source": [
        "from google.colab import drive\n",
        "drive.mount('/content/drive')"
      ],
      "metadata": {
        "colab": {
          "base_uri": "https://localhost:8080/"
        },
        "id": "xsr1wfQNBJVd",
        "outputId": "5a3020b3-444f-47f6-b267-7e168812bbbb"
      },
      "execution_count": 25,
      "outputs": [
        {
          "output_type": "stream",
          "name": "stdout",
          "text": [
            "Drive already mounted at /content/drive; to attempt to forcibly remount, call drive.mount(\"/content/drive\", force_remount=True).\n"
          ]
        }
      ]
    },
    {
      "cell_type": "code",
      "source": [
        "# %%time\n",
        "# # asegurate de poner la ruta correcta en donde se ubica el archivo en tu drive\n",
        "# file =  '/content/drive/MyDrive/TrackCienciaDeDatos/Word2Vec/GoogleNews-vectors-negative300.bin.gz'\n",
        "# w2v = gensim.models.KeyedVectors.load_word2vec_format(file,  binary=True)"
      ],
      "metadata": {
        "id": "TZ2Vbz-zAnbt"
      },
      "execution_count": 17,
      "outputs": []
    },
    {
      "source": [
        "\n",
        "# print('Palabras en el modelo w2v: {:,} '.format(len(w2v.key_to_index)))\n",
        "# print('Dimensiones por embedding: ', w2v.vector_size)"
      ],
      "cell_type": "code",
      "metadata": {
        "id": "YsO-idXPCRb2"
      },
      "execution_count": 18,
      "outputs": []
    },
    {
      "cell_type": "markdown",
      "source": [
        "<h3> Reducción del diccionario de embeddings para tener solo los tokens presentes en nuestro corpus.\n",
        "\n",
        "Guardar en pikle\n",
        "Así no tendremos que volver a cargar todo el modelo word embedding"
      ],
      "metadata": {
        "id": "9BPOksYRCAJn"
      }
    },
    {
      "cell_type": "code",
      "source": [
        "# dic_tokens_word2vec  = {}\n",
        "# palabras_sin_embedding =[]\n",
        "# for token in unique_words:\n",
        "#   try:\n",
        "#     dic_tokens_word2vec[token] = w2v[token]\n",
        "#   except:\n",
        "#     palabras_sin_embedding.append(token)"
      ],
      "metadata": {
        "id": "e4kGSX6vB_j_"
      },
      "execution_count": 19,
      "outputs": []
    },
    {
      "source": [
        "# import pickle\n",
        "# import os # Import os module\n",
        "\n",
        "# # Create the directory if it doesn't exist\n",
        "# path = 'content/drive/MyDrive/TrackCienciaDeDatos/Word2Vec/Pikles/'\n",
        "\n",
        "# # Now save the pickle file\n",
        "# pickle.dump(dic_tokens_word2vec, open(path + \"dic_tokens_ner_w2v.pkl\", 'wb'))"
      ],
      "cell_type": "code",
      "metadata": {
        "id": "tphFA4oHF2z5"
      },
      "execution_count": 20,
      "outputs": []
    },
    {
      "cell_type": "code",
      "source": [
        "import pickle\n",
        "path = '/content/drive/MyDrive/TrackCienciaDeDatos/Word2Vec/Pikles/'\n",
        "w2v = pickle.load(open(path + \"dic_tokens_ner_w2v.pkl\", 'rb'))\n",
        "palabras_sin_embedding = [tok for tok in unique_words if tok not in w2v.keys()]\n"
      ],
      "metadata": {
        "id": "RUP6y4lSGIY7"
      },
      "execution_count": 22,
      "outputs": []
    },
    {
      "cell_type": "code",
      "source": [
        "print(\"Vocabulary of unique words: {}\".format(len(unique_words)))\n",
        "print(\"Words without embedding: {}\".format(len(palabras_sin_embedding)))\n",
        "print(\"Words with embedding: {}\".format(len(w2v)))"
      ],
      "metadata": {
        "colab": {
          "base_uri": "https://localhost:8080/"
        },
        "id": "1jKCXoapINC_",
        "outputId": "c7cf8144-cc3c-4008-f958-35f109cd8118"
      },
      "execution_count": 25,
      "outputs": [
        {
          "output_type": "stream",
          "name": "stdout",
          "text": [
            "Vocabulary of unique words: 10578\n",
            "Words without embedding: 1732\n",
            "Words with embedding: 8846\n"
          ]
        }
      ]
    },
    {
      "source": [
        "# Assuming 'df' is your DataFrame with 'review' and 'polarity' columns\n",
        "# and 'palabras_sin_embedding' is your list of words without embeddings\n",
        "\n",
        "# 1. Extract all words from the 'review' column:\n",
        "all_review_words = ' '.join(df['review']).split()\n",
        "\n",
        "# 2. Create a Series containing only the words without embeddings:\n",
        "words_without_embeddings_series = pd.Series(all_review_words)[pd.Series(all_review_words).isin(palabras_sin_embedding)]\n",
        "\n",
        "# 3. Calculate and display the frequencies:\n",
        "word_frequencies = words_without_embeddings_series.value_counts(normalize=True).cumsum().head(50)\n",
        "\n",
        "print(\"Top 50 most frequent words without embeddings and their cumulative frequencies:\")\n",
        "word_frequencies"
      ],
      "cell_type": "code",
      "metadata": {
        "colab": {
          "base_uri": "https://localhost:8080/",
          "height": 1000
        },
        "collapsed": true,
        "id": "zKqTvjg1JEiz",
        "outputId": "52335394-6a8a-4913-b70a-39f565ad95ee"
      },
      "execution_count": 26,
      "outputs": [
        {
          "output_type": "stream",
          "name": "stdout",
          "text": [
            "Top 50 most frequent words without embeddings and their cumulative frequencies:\n"
          ]
        },
        {
          "output_type": "execute_result",
          "data": {
            "text/plain": [
              "and           0.277344\n",
              "to            0.514841\n",
              "a             0.741049\n",
              "of            0.857354\n",
              "didnt         0.868678\n",
              "wasnt         0.874657\n",
              "fairmont      0.877893\n",
              "talbott       0.881023\n",
              "amalfi        0.884012\n",
              "sheraton      0.886685\n",
              "swissotel     0.889182\n",
              "sofitel       0.891609\n",
              "10            0.893789\n",
              "affinia       0.895934\n",
              "20            0.897834\n",
              "15            0.899698\n",
              "homewood      0.901456\n",
              "30            0.903144\n",
              "isnt          0.904270\n",
              "kimpton       0.905360\n",
              "inroom        0.906450\n",
              "24            0.907470\n",
              "doesnt        0.908490\n",
              "100           0.909439\n",
              "45            0.910283\n",
              "40            0.911057\n",
              "chicagos      0.911796\n",
              "12            0.912499\n",
              "200           0.913203\n",
              "25            0.913906\n",
              "50            0.914504\n",
              "13            0.914996\n",
              "shouldnt      0.915488\n",
              "14            0.915946\n",
              "300           0.916368\n",
              "aveda         0.916790\n",
              "centre        0.917177\n",
              "10th          0.917563\n",
              "marriott      0.917950\n",
              "travelzoo     0.918337\n",
              "2010          0.918689\n",
              "400           0.919041\n",
              "ohare         0.919392\n",
              "lockwood      0.919744\n",
              "theatre       0.920096\n",
              "travelling    0.920447\n",
              "42            0.920764\n",
              "500           0.921080\n",
              "talbot        0.921397\n",
              "shulas        0.921678\n",
              "Name: proportion, dtype: float64"
            ],
            "text/html": [
              "<div>\n",
              "<style scoped>\n",
              "    .dataframe tbody tr th:only-of-type {\n",
              "        vertical-align: middle;\n",
              "    }\n",
              "\n",
              "    .dataframe tbody tr th {\n",
              "        vertical-align: top;\n",
              "    }\n",
              "\n",
              "    .dataframe thead th {\n",
              "        text-align: right;\n",
              "    }\n",
              "</style>\n",
              "<table border=\"1\" class=\"dataframe\">\n",
              "  <thead>\n",
              "    <tr style=\"text-align: right;\">\n",
              "      <th></th>\n",
              "      <th>proportion</th>\n",
              "    </tr>\n",
              "  </thead>\n",
              "  <tbody>\n",
              "    <tr>\n",
              "      <th>and</th>\n",
              "      <td>0.277344</td>\n",
              "    </tr>\n",
              "    <tr>\n",
              "      <th>to</th>\n",
              "      <td>0.514841</td>\n",
              "    </tr>\n",
              "    <tr>\n",
              "      <th>a</th>\n",
              "      <td>0.741049</td>\n",
              "    </tr>\n",
              "    <tr>\n",
              "      <th>of</th>\n",
              "      <td>0.857354</td>\n",
              "    </tr>\n",
              "    <tr>\n",
              "      <th>didnt</th>\n",
              "      <td>0.868678</td>\n",
              "    </tr>\n",
              "    <tr>\n",
              "      <th>wasnt</th>\n",
              "      <td>0.874657</td>\n",
              "    </tr>\n",
              "    <tr>\n",
              "      <th>fairmont</th>\n",
              "      <td>0.877893</td>\n",
              "    </tr>\n",
              "    <tr>\n",
              "      <th>talbott</th>\n",
              "      <td>0.881023</td>\n",
              "    </tr>\n",
              "    <tr>\n",
              "      <th>amalfi</th>\n",
              "      <td>0.884012</td>\n",
              "    </tr>\n",
              "    <tr>\n",
              "      <th>sheraton</th>\n",
              "      <td>0.886685</td>\n",
              "    </tr>\n",
              "    <tr>\n",
              "      <th>swissotel</th>\n",
              "      <td>0.889182</td>\n",
              "    </tr>\n",
              "    <tr>\n",
              "      <th>sofitel</th>\n",
              "      <td>0.891609</td>\n",
              "    </tr>\n",
              "    <tr>\n",
              "      <th>10</th>\n",
              "      <td>0.893789</td>\n",
              "    </tr>\n",
              "    <tr>\n",
              "      <th>affinia</th>\n",
              "      <td>0.895934</td>\n",
              "    </tr>\n",
              "    <tr>\n",
              "      <th>20</th>\n",
              "      <td>0.897834</td>\n",
              "    </tr>\n",
              "    <tr>\n",
              "      <th>15</th>\n",
              "      <td>0.899698</td>\n",
              "    </tr>\n",
              "    <tr>\n",
              "      <th>homewood</th>\n",
              "      <td>0.901456</td>\n",
              "    </tr>\n",
              "    <tr>\n",
              "      <th>30</th>\n",
              "      <td>0.903144</td>\n",
              "    </tr>\n",
              "    <tr>\n",
              "      <th>isnt</th>\n",
              "      <td>0.904270</td>\n",
              "    </tr>\n",
              "    <tr>\n",
              "      <th>kimpton</th>\n",
              "      <td>0.905360</td>\n",
              "    </tr>\n",
              "    <tr>\n",
              "      <th>inroom</th>\n",
              "      <td>0.906450</td>\n",
              "    </tr>\n",
              "    <tr>\n",
              "      <th>24</th>\n",
              "      <td>0.907470</td>\n",
              "    </tr>\n",
              "    <tr>\n",
              "      <th>doesnt</th>\n",
              "      <td>0.908490</td>\n",
              "    </tr>\n",
              "    <tr>\n",
              "      <th>100</th>\n",
              "      <td>0.909439</td>\n",
              "    </tr>\n",
              "    <tr>\n",
              "      <th>45</th>\n",
              "      <td>0.910283</td>\n",
              "    </tr>\n",
              "    <tr>\n",
              "      <th>40</th>\n",
              "      <td>0.911057</td>\n",
              "    </tr>\n",
              "    <tr>\n",
              "      <th>chicagos</th>\n",
              "      <td>0.911796</td>\n",
              "    </tr>\n",
              "    <tr>\n",
              "      <th>12</th>\n",
              "      <td>0.912499</td>\n",
              "    </tr>\n",
              "    <tr>\n",
              "      <th>200</th>\n",
              "      <td>0.913203</td>\n",
              "    </tr>\n",
              "    <tr>\n",
              "      <th>25</th>\n",
              "      <td>0.913906</td>\n",
              "    </tr>\n",
              "    <tr>\n",
              "      <th>50</th>\n",
              "      <td>0.914504</td>\n",
              "    </tr>\n",
              "    <tr>\n",
              "      <th>13</th>\n",
              "      <td>0.914996</td>\n",
              "    </tr>\n",
              "    <tr>\n",
              "      <th>shouldnt</th>\n",
              "      <td>0.915488</td>\n",
              "    </tr>\n",
              "    <tr>\n",
              "      <th>14</th>\n",
              "      <td>0.915946</td>\n",
              "    </tr>\n",
              "    <tr>\n",
              "      <th>300</th>\n",
              "      <td>0.916368</td>\n",
              "    </tr>\n",
              "    <tr>\n",
              "      <th>aveda</th>\n",
              "      <td>0.916790</td>\n",
              "    </tr>\n",
              "    <tr>\n",
              "      <th>centre</th>\n",
              "      <td>0.917177</td>\n",
              "    </tr>\n",
              "    <tr>\n",
              "      <th>10th</th>\n",
              "      <td>0.917563</td>\n",
              "    </tr>\n",
              "    <tr>\n",
              "      <th>marriott</th>\n",
              "      <td>0.917950</td>\n",
              "    </tr>\n",
              "    <tr>\n",
              "      <th>travelzoo</th>\n",
              "      <td>0.918337</td>\n",
              "    </tr>\n",
              "    <tr>\n",
              "      <th>2010</th>\n",
              "      <td>0.918689</td>\n",
              "    </tr>\n",
              "    <tr>\n",
              "      <th>400</th>\n",
              "      <td>0.919041</td>\n",
              "    </tr>\n",
              "    <tr>\n",
              "      <th>ohare</th>\n",
              "      <td>0.919392</td>\n",
              "    </tr>\n",
              "    <tr>\n",
              "      <th>lockwood</th>\n",
              "      <td>0.919744</td>\n",
              "    </tr>\n",
              "    <tr>\n",
              "      <th>theatre</th>\n",
              "      <td>0.920096</td>\n",
              "    </tr>\n",
              "    <tr>\n",
              "      <th>travelling</th>\n",
              "      <td>0.920447</td>\n",
              "    </tr>\n",
              "    <tr>\n",
              "      <th>42</th>\n",
              "      <td>0.920764</td>\n",
              "    </tr>\n",
              "    <tr>\n",
              "      <th>500</th>\n",
              "      <td>0.921080</td>\n",
              "    </tr>\n",
              "    <tr>\n",
              "      <th>talbot</th>\n",
              "      <td>0.921397</td>\n",
              "    </tr>\n",
              "    <tr>\n",
              "      <th>shulas</th>\n",
              "      <td>0.921678</td>\n",
              "    </tr>\n",
              "  </tbody>\n",
              "</table>\n",
              "</div><br><label><b>dtype:</b> float64</label>"
            ]
          },
          "metadata": {},
          "execution_count": 26
        }
      ]
    },
    {
      "source": [
        "##Embedding:\n",
        "word_index = tokenizer.word_index\n",
        "embedding_dim = 300#w2v.vector_size\n",
        "\n",
        "embedding_matrix = np.zeros((len(word_index) + 1, embedding_dim))\n",
        "for word, i in word_index.items():\n",
        "   if word in w2v:\n",
        "       embedding_matrix[i] = w2v[word]"
      ],
      "cell_type": "code",
      "metadata": {
        "id": "igrNeHcfkcNH"
      },
      "execution_count": 27,
      "outputs": []
    },
    {
      "cell_type": "code",
      "source": [
        "len(embedding_matrix)"
      ],
      "metadata": {
        "colab": {
          "base_uri": "https://localhost:8080/"
        },
        "id": "iEHAosWjhInc",
        "outputId": "d143375d-80bf-4090-8cdb-c66578f91d06"
      },
      "execution_count": 28,
      "outputs": [
        {
          "output_type": "execute_result",
          "data": {
            "text/plain": [
              "10580"
            ]
          },
          "metadata": {},
          "execution_count": 28
        }
      ]
    },
    {
      "cell_type": "code",
      "source": [
        "pd.DataFrame(embedding_matrix)"
      ],
      "metadata": {
        "colab": {
          "base_uri": "https://localhost:8080/",
          "height": 424
        },
        "id": "H_2FmRvpl_j-",
        "outputId": "fe8f0f17-32c2-4de0-fdd7-f8935577bef8"
      },
      "execution_count": 29,
      "outputs": [
        {
          "output_type": "execute_result",
          "data": {
            "text/plain": [
              "            0         1         2         3         4         5         6    \\\n",
              "0      0.000000  0.000000  0.000000  0.000000  0.000000  0.000000  0.000000   \n",
              "1      0.000000  0.000000  0.000000  0.000000  0.000000  0.000000  0.000000   \n",
              "2      0.080078  0.104980  0.049805  0.053467 -0.067383 -0.120605  0.035156   \n",
              "3      0.000000  0.000000  0.000000  0.000000  0.000000  0.000000  0.000000   \n",
              "4      0.000000  0.000000  0.000000  0.000000  0.000000  0.000000  0.000000   \n",
              "...         ...       ...       ...       ...       ...       ...       ...   \n",
              "10575 -0.036865  0.205078  0.086914 -0.051758  0.067871  0.092285 -0.027466   \n",
              "10576  0.001266  0.014221 -0.071777 -0.248047 -0.314453  0.054932  0.189453   \n",
              "10577  0.000000  0.000000  0.000000  0.000000  0.000000  0.000000  0.000000   \n",
              "10578  0.082031  0.250000 -0.070312  0.108887 -0.130859  0.026855 -0.009705   \n",
              "10579  0.013306 -0.024170 -0.107910  0.199219 -0.192383 -0.084961  0.125000   \n",
              "\n",
              "            7         8         9    ...       290       291       292  \\\n",
              "0      0.000000  0.000000  0.000000  ...  0.000000  0.000000  0.000000   \n",
              "1      0.000000  0.000000  0.000000  ...  0.000000  0.000000  0.000000   \n",
              "2     -0.118652  0.043945  0.030151  ... -0.071289 -0.030151 -0.013000   \n",
              "3      0.000000  0.000000  0.000000  ...  0.000000  0.000000  0.000000   \n",
              "4      0.000000  0.000000  0.000000  ...  0.000000  0.000000  0.000000   \n",
              "...         ...       ...       ...  ...       ...       ...       ...   \n",
              "10575  0.390625  0.474609  0.259766  ...  0.054932  0.023071  0.182617   \n",
              "10576 -0.139648  0.417969  0.259766  ...  0.193359  0.168945 -0.024536   \n",
              "10577  0.000000  0.000000  0.000000  ...  0.000000  0.000000  0.000000   \n",
              "10578 -0.035156 -0.125977 -0.238281  ...  0.100586 -0.249023  0.123047   \n",
              "10579 -0.031494  0.107910  0.134766  ... -0.232422 -0.025757  0.099121   \n",
              "\n",
              "            293       294       295       296       297       298       299  \n",
              "0      0.000000  0.000000  0.000000  0.000000  0.000000  0.000000  0.000000  \n",
              "1      0.000000  0.000000  0.000000  0.000000  0.000000  0.000000  0.000000  \n",
              "2      0.016357 -0.018311  0.014832  0.005005  0.003662  0.047607 -0.068848  \n",
              "3      0.000000  0.000000  0.000000  0.000000  0.000000  0.000000  0.000000  \n",
              "4      0.000000  0.000000  0.000000  0.000000  0.000000  0.000000  0.000000  \n",
              "...         ...       ...       ...       ...       ...       ...       ...  \n",
              "10575  0.154297 -0.263672  0.285156 -0.228516  0.061523 -0.026978  0.204102  \n",
              "10576 -0.034180 -0.090820 -0.361328  0.335938 -0.019287  0.123535  0.005188  \n",
              "10577  0.000000  0.000000  0.000000  0.000000  0.000000  0.000000  0.000000  \n",
              "10578 -0.016235 -0.175781 -0.091309 -0.128906 -0.036865 -0.078613  0.161133  \n",
              "10579  0.153320 -0.247070 -0.010803  0.038574  0.121094 -0.192383  0.119141  \n",
              "\n",
              "[10580 rows x 300 columns]"
            ],
            "text/html": [
              "\n",
              "  <div id=\"df-e9367d3e-3d84-4b8d-a9fe-408a3201cd00\" class=\"colab-df-container\">\n",
              "    <div>\n",
              "<style scoped>\n",
              "    .dataframe tbody tr th:only-of-type {\n",
              "        vertical-align: middle;\n",
              "    }\n",
              "\n",
              "    .dataframe tbody tr th {\n",
              "        vertical-align: top;\n",
              "    }\n",
              "\n",
              "    .dataframe thead th {\n",
              "        text-align: right;\n",
              "    }\n",
              "</style>\n",
              "<table border=\"1\" class=\"dataframe\">\n",
              "  <thead>\n",
              "    <tr style=\"text-align: right;\">\n",
              "      <th></th>\n",
              "      <th>0</th>\n",
              "      <th>1</th>\n",
              "      <th>2</th>\n",
              "      <th>3</th>\n",
              "      <th>4</th>\n",
              "      <th>5</th>\n",
              "      <th>6</th>\n",
              "      <th>7</th>\n",
              "      <th>8</th>\n",
              "      <th>9</th>\n",
              "      <th>...</th>\n",
              "      <th>290</th>\n",
              "      <th>291</th>\n",
              "      <th>292</th>\n",
              "      <th>293</th>\n",
              "      <th>294</th>\n",
              "      <th>295</th>\n",
              "      <th>296</th>\n",
              "      <th>297</th>\n",
              "      <th>298</th>\n",
              "      <th>299</th>\n",
              "    </tr>\n",
              "  </thead>\n",
              "  <tbody>\n",
              "    <tr>\n",
              "      <th>0</th>\n",
              "      <td>0.000000</td>\n",
              "      <td>0.000000</td>\n",
              "      <td>0.000000</td>\n",
              "      <td>0.000000</td>\n",
              "      <td>0.000000</td>\n",
              "      <td>0.000000</td>\n",
              "      <td>0.000000</td>\n",
              "      <td>0.000000</td>\n",
              "      <td>0.000000</td>\n",
              "      <td>0.000000</td>\n",
              "      <td>...</td>\n",
              "      <td>0.000000</td>\n",
              "      <td>0.000000</td>\n",
              "      <td>0.000000</td>\n",
              "      <td>0.000000</td>\n",
              "      <td>0.000000</td>\n",
              "      <td>0.000000</td>\n",
              "      <td>0.000000</td>\n",
              "      <td>0.000000</td>\n",
              "      <td>0.000000</td>\n",
              "      <td>0.000000</td>\n",
              "    </tr>\n",
              "    <tr>\n",
              "      <th>1</th>\n",
              "      <td>0.000000</td>\n",
              "      <td>0.000000</td>\n",
              "      <td>0.000000</td>\n",
              "      <td>0.000000</td>\n",
              "      <td>0.000000</td>\n",
              "      <td>0.000000</td>\n",
              "      <td>0.000000</td>\n",
              "      <td>0.000000</td>\n",
              "      <td>0.000000</td>\n",
              "      <td>0.000000</td>\n",
              "      <td>...</td>\n",
              "      <td>0.000000</td>\n",
              "      <td>0.000000</td>\n",
              "      <td>0.000000</td>\n",
              "      <td>0.000000</td>\n",
              "      <td>0.000000</td>\n",
              "      <td>0.000000</td>\n",
              "      <td>0.000000</td>\n",
              "      <td>0.000000</td>\n",
              "      <td>0.000000</td>\n",
              "      <td>0.000000</td>\n",
              "    </tr>\n",
              "    <tr>\n",
              "      <th>2</th>\n",
              "      <td>0.080078</td>\n",
              "      <td>0.104980</td>\n",
              "      <td>0.049805</td>\n",
              "      <td>0.053467</td>\n",
              "      <td>-0.067383</td>\n",
              "      <td>-0.120605</td>\n",
              "      <td>0.035156</td>\n",
              "      <td>-0.118652</td>\n",
              "      <td>0.043945</td>\n",
              "      <td>0.030151</td>\n",
              "      <td>...</td>\n",
              "      <td>-0.071289</td>\n",
              "      <td>-0.030151</td>\n",
              "      <td>-0.013000</td>\n",
              "      <td>0.016357</td>\n",
              "      <td>-0.018311</td>\n",
              "      <td>0.014832</td>\n",
              "      <td>0.005005</td>\n",
              "      <td>0.003662</td>\n",
              "      <td>0.047607</td>\n",
              "      <td>-0.068848</td>\n",
              "    </tr>\n",
              "    <tr>\n",
              "      <th>3</th>\n",
              "      <td>0.000000</td>\n",
              "      <td>0.000000</td>\n",
              "      <td>0.000000</td>\n",
              "      <td>0.000000</td>\n",
              "      <td>0.000000</td>\n",
              "      <td>0.000000</td>\n",
              "      <td>0.000000</td>\n",
              "      <td>0.000000</td>\n",
              "      <td>0.000000</td>\n",
              "      <td>0.000000</td>\n",
              "      <td>...</td>\n",
              "      <td>0.000000</td>\n",
              "      <td>0.000000</td>\n",
              "      <td>0.000000</td>\n",
              "      <td>0.000000</td>\n",
              "      <td>0.000000</td>\n",
              "      <td>0.000000</td>\n",
              "      <td>0.000000</td>\n",
              "      <td>0.000000</td>\n",
              "      <td>0.000000</td>\n",
              "      <td>0.000000</td>\n",
              "    </tr>\n",
              "    <tr>\n",
              "      <th>4</th>\n",
              "      <td>0.000000</td>\n",
              "      <td>0.000000</td>\n",
              "      <td>0.000000</td>\n",
              "      <td>0.000000</td>\n",
              "      <td>0.000000</td>\n",
              "      <td>0.000000</td>\n",
              "      <td>0.000000</td>\n",
              "      <td>0.000000</td>\n",
              "      <td>0.000000</td>\n",
              "      <td>0.000000</td>\n",
              "      <td>...</td>\n",
              "      <td>0.000000</td>\n",
              "      <td>0.000000</td>\n",
              "      <td>0.000000</td>\n",
              "      <td>0.000000</td>\n",
              "      <td>0.000000</td>\n",
              "      <td>0.000000</td>\n",
              "      <td>0.000000</td>\n",
              "      <td>0.000000</td>\n",
              "      <td>0.000000</td>\n",
              "      <td>0.000000</td>\n",
              "    </tr>\n",
              "    <tr>\n",
              "      <th>...</th>\n",
              "      <td>...</td>\n",
              "      <td>...</td>\n",
              "      <td>...</td>\n",
              "      <td>...</td>\n",
              "      <td>...</td>\n",
              "      <td>...</td>\n",
              "      <td>...</td>\n",
              "      <td>...</td>\n",
              "      <td>...</td>\n",
              "      <td>...</td>\n",
              "      <td>...</td>\n",
              "      <td>...</td>\n",
              "      <td>...</td>\n",
              "      <td>...</td>\n",
              "      <td>...</td>\n",
              "      <td>...</td>\n",
              "      <td>...</td>\n",
              "      <td>...</td>\n",
              "      <td>...</td>\n",
              "      <td>...</td>\n",
              "      <td>...</td>\n",
              "    </tr>\n",
              "    <tr>\n",
              "      <th>10575</th>\n",
              "      <td>-0.036865</td>\n",
              "      <td>0.205078</td>\n",
              "      <td>0.086914</td>\n",
              "      <td>-0.051758</td>\n",
              "      <td>0.067871</td>\n",
              "      <td>0.092285</td>\n",
              "      <td>-0.027466</td>\n",
              "      <td>0.390625</td>\n",
              "      <td>0.474609</td>\n",
              "      <td>0.259766</td>\n",
              "      <td>...</td>\n",
              "      <td>0.054932</td>\n",
              "      <td>0.023071</td>\n",
              "      <td>0.182617</td>\n",
              "      <td>0.154297</td>\n",
              "      <td>-0.263672</td>\n",
              "      <td>0.285156</td>\n",
              "      <td>-0.228516</td>\n",
              "      <td>0.061523</td>\n",
              "      <td>-0.026978</td>\n",
              "      <td>0.204102</td>\n",
              "    </tr>\n",
              "    <tr>\n",
              "      <th>10576</th>\n",
              "      <td>0.001266</td>\n",
              "      <td>0.014221</td>\n",
              "      <td>-0.071777</td>\n",
              "      <td>-0.248047</td>\n",
              "      <td>-0.314453</td>\n",
              "      <td>0.054932</td>\n",
              "      <td>0.189453</td>\n",
              "      <td>-0.139648</td>\n",
              "      <td>0.417969</td>\n",
              "      <td>0.259766</td>\n",
              "      <td>...</td>\n",
              "      <td>0.193359</td>\n",
              "      <td>0.168945</td>\n",
              "      <td>-0.024536</td>\n",
              "      <td>-0.034180</td>\n",
              "      <td>-0.090820</td>\n",
              "      <td>-0.361328</td>\n",
              "      <td>0.335938</td>\n",
              "      <td>-0.019287</td>\n",
              "      <td>0.123535</td>\n",
              "      <td>0.005188</td>\n",
              "    </tr>\n",
              "    <tr>\n",
              "      <th>10577</th>\n",
              "      <td>0.000000</td>\n",
              "      <td>0.000000</td>\n",
              "      <td>0.000000</td>\n",
              "      <td>0.000000</td>\n",
              "      <td>0.000000</td>\n",
              "      <td>0.000000</td>\n",
              "      <td>0.000000</td>\n",
              "      <td>0.000000</td>\n",
              "      <td>0.000000</td>\n",
              "      <td>0.000000</td>\n",
              "      <td>...</td>\n",
              "      <td>0.000000</td>\n",
              "      <td>0.000000</td>\n",
              "      <td>0.000000</td>\n",
              "      <td>0.000000</td>\n",
              "      <td>0.000000</td>\n",
              "      <td>0.000000</td>\n",
              "      <td>0.000000</td>\n",
              "      <td>0.000000</td>\n",
              "      <td>0.000000</td>\n",
              "      <td>0.000000</td>\n",
              "    </tr>\n",
              "    <tr>\n",
              "      <th>10578</th>\n",
              "      <td>0.082031</td>\n",
              "      <td>0.250000</td>\n",
              "      <td>-0.070312</td>\n",
              "      <td>0.108887</td>\n",
              "      <td>-0.130859</td>\n",
              "      <td>0.026855</td>\n",
              "      <td>-0.009705</td>\n",
              "      <td>-0.035156</td>\n",
              "      <td>-0.125977</td>\n",
              "      <td>-0.238281</td>\n",
              "      <td>...</td>\n",
              "      <td>0.100586</td>\n",
              "      <td>-0.249023</td>\n",
              "      <td>0.123047</td>\n",
              "      <td>-0.016235</td>\n",
              "      <td>-0.175781</td>\n",
              "      <td>-0.091309</td>\n",
              "      <td>-0.128906</td>\n",
              "      <td>-0.036865</td>\n",
              "      <td>-0.078613</td>\n",
              "      <td>0.161133</td>\n",
              "    </tr>\n",
              "    <tr>\n",
              "      <th>10579</th>\n",
              "      <td>0.013306</td>\n",
              "      <td>-0.024170</td>\n",
              "      <td>-0.107910</td>\n",
              "      <td>0.199219</td>\n",
              "      <td>-0.192383</td>\n",
              "      <td>-0.084961</td>\n",
              "      <td>0.125000</td>\n",
              "      <td>-0.031494</td>\n",
              "      <td>0.107910</td>\n",
              "      <td>0.134766</td>\n",
              "      <td>...</td>\n",
              "      <td>-0.232422</td>\n",
              "      <td>-0.025757</td>\n",
              "      <td>0.099121</td>\n",
              "      <td>0.153320</td>\n",
              "      <td>-0.247070</td>\n",
              "      <td>-0.010803</td>\n",
              "      <td>0.038574</td>\n",
              "      <td>0.121094</td>\n",
              "      <td>-0.192383</td>\n",
              "      <td>0.119141</td>\n",
              "    </tr>\n",
              "  </tbody>\n",
              "</table>\n",
              "<p>10580 rows × 300 columns</p>\n",
              "</div>\n",
              "    <div class=\"colab-df-buttons\">\n",
              "\n",
              "  <div class=\"colab-df-container\">\n",
              "    <button class=\"colab-df-convert\" onclick=\"convertToInteractive('df-e9367d3e-3d84-4b8d-a9fe-408a3201cd00')\"\n",
              "            title=\"Convert this dataframe to an interactive table.\"\n",
              "            style=\"display:none;\">\n",
              "\n",
              "  <svg xmlns=\"http://www.w3.org/2000/svg\" height=\"24px\" viewBox=\"0 -960 960 960\">\n",
              "    <path d=\"M120-120v-720h720v720H120Zm60-500h600v-160H180v160Zm220 220h160v-160H400v160Zm0 220h160v-160H400v160ZM180-400h160v-160H180v160Zm440 0h160v-160H620v160ZM180-180h160v-160H180v160Zm440 0h160v-160H620v160Z\"/>\n",
              "  </svg>\n",
              "    </button>\n",
              "\n",
              "  <style>\n",
              "    .colab-df-container {\n",
              "      display:flex;\n",
              "      gap: 12px;\n",
              "    }\n",
              "\n",
              "    .colab-df-convert {\n",
              "      background-color: #E8F0FE;\n",
              "      border: none;\n",
              "      border-radius: 50%;\n",
              "      cursor: pointer;\n",
              "      display: none;\n",
              "      fill: #1967D2;\n",
              "      height: 32px;\n",
              "      padding: 0 0 0 0;\n",
              "      width: 32px;\n",
              "    }\n",
              "\n",
              "    .colab-df-convert:hover {\n",
              "      background-color: #E2EBFA;\n",
              "      box-shadow: 0px 1px 2px rgba(60, 64, 67, 0.3), 0px 1px 3px 1px rgba(60, 64, 67, 0.15);\n",
              "      fill: #174EA6;\n",
              "    }\n",
              "\n",
              "    .colab-df-buttons div {\n",
              "      margin-bottom: 4px;\n",
              "    }\n",
              "\n",
              "    [theme=dark] .colab-df-convert {\n",
              "      background-color: #3B4455;\n",
              "      fill: #D2E3FC;\n",
              "    }\n",
              "\n",
              "    [theme=dark] .colab-df-convert:hover {\n",
              "      background-color: #434B5C;\n",
              "      box-shadow: 0px 1px 3px 1px rgba(0, 0, 0, 0.15);\n",
              "      filter: drop-shadow(0px 1px 2px rgba(0, 0, 0, 0.3));\n",
              "      fill: #FFFFFF;\n",
              "    }\n",
              "  </style>\n",
              "\n",
              "    <script>\n",
              "      const buttonEl =\n",
              "        document.querySelector('#df-e9367d3e-3d84-4b8d-a9fe-408a3201cd00 button.colab-df-convert');\n",
              "      buttonEl.style.display =\n",
              "        google.colab.kernel.accessAllowed ? 'block' : 'none';\n",
              "\n",
              "      async function convertToInteractive(key) {\n",
              "        const element = document.querySelector('#df-e9367d3e-3d84-4b8d-a9fe-408a3201cd00');\n",
              "        const dataTable =\n",
              "          await google.colab.kernel.invokeFunction('convertToInteractive',\n",
              "                                                    [key], {});\n",
              "        if (!dataTable) return;\n",
              "\n",
              "        const docLinkHtml = 'Like what you see? Visit the ' +\n",
              "          '<a target=\"_blank\" href=https://colab.research.google.com/notebooks/data_table.ipynb>data table notebook</a>'\n",
              "          + ' to learn more about interactive tables.';\n",
              "        element.innerHTML = '';\n",
              "        dataTable['output_type'] = 'display_data';\n",
              "        await google.colab.output.renderOutput(dataTable, element);\n",
              "        const docLink = document.createElement('div');\n",
              "        docLink.innerHTML = docLinkHtml;\n",
              "        element.appendChild(docLink);\n",
              "      }\n",
              "    </script>\n",
              "  </div>\n",
              "\n",
              "\n",
              "    <div id=\"df-e0cb9b44-c5f2-46b5-a8d3-4862cdea8f38\">\n",
              "      <button class=\"colab-df-quickchart\" onclick=\"quickchart('df-e0cb9b44-c5f2-46b5-a8d3-4862cdea8f38')\"\n",
              "                title=\"Suggest charts\"\n",
              "                style=\"display:none;\">\n",
              "\n",
              "<svg xmlns=\"http://www.w3.org/2000/svg\" height=\"24px\"viewBox=\"0 0 24 24\"\n",
              "     width=\"24px\">\n",
              "    <g>\n",
              "        <path d=\"M19 3H5c-1.1 0-2 .9-2 2v14c0 1.1.9 2 2 2h14c1.1 0 2-.9 2-2V5c0-1.1-.9-2-2-2zM9 17H7v-7h2v7zm4 0h-2V7h2v10zm4 0h-2v-4h2v4z\"/>\n",
              "    </g>\n",
              "</svg>\n",
              "      </button>\n",
              "\n",
              "<style>\n",
              "  .colab-df-quickchart {\n",
              "      --bg-color: #E8F0FE;\n",
              "      --fill-color: #1967D2;\n",
              "      --hover-bg-color: #E2EBFA;\n",
              "      --hover-fill-color: #174EA6;\n",
              "      --disabled-fill-color: #AAA;\n",
              "      --disabled-bg-color: #DDD;\n",
              "  }\n",
              "\n",
              "  [theme=dark] .colab-df-quickchart {\n",
              "      --bg-color: #3B4455;\n",
              "      --fill-color: #D2E3FC;\n",
              "      --hover-bg-color: #434B5C;\n",
              "      --hover-fill-color: #FFFFFF;\n",
              "      --disabled-bg-color: #3B4455;\n",
              "      --disabled-fill-color: #666;\n",
              "  }\n",
              "\n",
              "  .colab-df-quickchart {\n",
              "    background-color: var(--bg-color);\n",
              "    border: none;\n",
              "    border-radius: 50%;\n",
              "    cursor: pointer;\n",
              "    display: none;\n",
              "    fill: var(--fill-color);\n",
              "    height: 32px;\n",
              "    padding: 0;\n",
              "    width: 32px;\n",
              "  }\n",
              "\n",
              "  .colab-df-quickchart:hover {\n",
              "    background-color: var(--hover-bg-color);\n",
              "    box-shadow: 0 1px 2px rgba(60, 64, 67, 0.3), 0 1px 3px 1px rgba(60, 64, 67, 0.15);\n",
              "    fill: var(--button-hover-fill-color);\n",
              "  }\n",
              "\n",
              "  .colab-df-quickchart-complete:disabled,\n",
              "  .colab-df-quickchart-complete:disabled:hover {\n",
              "    background-color: var(--disabled-bg-color);\n",
              "    fill: var(--disabled-fill-color);\n",
              "    box-shadow: none;\n",
              "  }\n",
              "\n",
              "  .colab-df-spinner {\n",
              "    border: 2px solid var(--fill-color);\n",
              "    border-color: transparent;\n",
              "    border-bottom-color: var(--fill-color);\n",
              "    animation:\n",
              "      spin 1s steps(1) infinite;\n",
              "  }\n",
              "\n",
              "  @keyframes spin {\n",
              "    0% {\n",
              "      border-color: transparent;\n",
              "      border-bottom-color: var(--fill-color);\n",
              "      border-left-color: var(--fill-color);\n",
              "    }\n",
              "    20% {\n",
              "      border-color: transparent;\n",
              "      border-left-color: var(--fill-color);\n",
              "      border-top-color: var(--fill-color);\n",
              "    }\n",
              "    30% {\n",
              "      border-color: transparent;\n",
              "      border-left-color: var(--fill-color);\n",
              "      border-top-color: var(--fill-color);\n",
              "      border-right-color: var(--fill-color);\n",
              "    }\n",
              "    40% {\n",
              "      border-color: transparent;\n",
              "      border-right-color: var(--fill-color);\n",
              "      border-top-color: var(--fill-color);\n",
              "    }\n",
              "    60% {\n",
              "      border-color: transparent;\n",
              "      border-right-color: var(--fill-color);\n",
              "    }\n",
              "    80% {\n",
              "      border-color: transparent;\n",
              "      border-right-color: var(--fill-color);\n",
              "      border-bottom-color: var(--fill-color);\n",
              "    }\n",
              "    90% {\n",
              "      border-color: transparent;\n",
              "      border-bottom-color: var(--fill-color);\n",
              "    }\n",
              "  }\n",
              "</style>\n",
              "\n",
              "      <script>\n",
              "        async function quickchart(key) {\n",
              "          const quickchartButtonEl =\n",
              "            document.querySelector('#' + key + ' button');\n",
              "          quickchartButtonEl.disabled = true;  // To prevent multiple clicks.\n",
              "          quickchartButtonEl.classList.add('colab-df-spinner');\n",
              "          try {\n",
              "            const charts = await google.colab.kernel.invokeFunction(\n",
              "                'suggestCharts', [key], {});\n",
              "          } catch (error) {\n",
              "            console.error('Error during call to suggestCharts:', error);\n",
              "          }\n",
              "          quickchartButtonEl.classList.remove('colab-df-spinner');\n",
              "          quickchartButtonEl.classList.add('colab-df-quickchart-complete');\n",
              "        }\n",
              "        (() => {\n",
              "          let quickchartButtonEl =\n",
              "            document.querySelector('#df-e0cb9b44-c5f2-46b5-a8d3-4862cdea8f38 button');\n",
              "          quickchartButtonEl.style.display =\n",
              "            google.colab.kernel.accessAllowed ? 'block' : 'none';\n",
              "        })();\n",
              "      </script>\n",
              "    </div>\n",
              "\n",
              "    </div>\n",
              "  </div>\n"
            ],
            "application/vnd.google.colaboratory.intrinsic+json": {
              "type": "dataframe"
            }
          },
          "metadata": {},
          "execution_count": 29
        }
      ]
    },
    {
      "cell_type": "markdown",
      "source": [
        "## Trainning:"
      ],
      "metadata": {
        "id": "epWWsSt8Ak_9"
      }
    },
    {
      "cell_type": "code",
      "source": [
        "X = padded_sequences\n",
        "Y = df['polarity']\n",
        "X_train, X_test, y_train, y_test = train_test_split(X, Y, test_size=0.2, train_size=0.8, random_state=42)"
      ],
      "metadata": {
        "id": "Kjikyxr5ARxF"
      },
      "execution_count": 30,
      "outputs": []
    },
    {
      "cell_type": "code",
      "source": [
        "vocab_size = embedding_matrix.shape[0]\n",
        "vocab_size"
      ],
      "metadata": {
        "colab": {
          "base_uri": "https://localhost:8080/"
        },
        "id": "Lm8brdVUyhr3",
        "outputId": "75d7cf6a-da2c-43f5-9437-fff7c0ff03ae"
      },
      "execution_count": 31,
      "outputs": [
        {
          "output_type": "execute_result",
          "data": {
            "text/plain": [
              "6370"
            ]
          },
          "metadata": {},
          "execution_count": 31
        }
      ]
    },
    {
      "cell_type": "code",
      "source": [
        "embedding_dim = embedding_matrix.shape[1]\n",
        "embedding_dim"
      ],
      "metadata": {
        "colab": {
          "base_uri": "https://localhost:8080/"
        },
        "id": "OFqXdrHOyruc",
        "outputId": "64427ce3-27a8-4db2-8889-d52c4500e985"
      },
      "execution_count": 32,
      "outputs": [
        {
          "output_type": "execute_result",
          "data": {
            "text/plain": [
              "300"
            ]
          },
          "metadata": {},
          "execution_count": 32
        }
      ]
    },
    {
      "cell_type": "code",
      "source": [
        "#1. Input Layer\n",
        "input = Input(shape=(max_len,), name=\"input_layer\")\n",
        "\n",
        "#2. Embedding Layer, no trainable, using w2v\n",
        "embedding = Embedding(\n",
        "                      input_dim=vocab_size,\n",
        "                      output_dim=embedding_dim,\n",
        "                      embeddings_initializer=Constant(embedding_matrix),\n",
        "                      input_length=max_len,\n",
        "                      trainable=False,\n",
        "                      name=\"embedding_layer\"\n",
        "                  )(input)\n",
        "\n",
        "# 3. Layer LSTM with dropout 0.2\n",
        "lstm = LSTM(\n",
        "            units=embedding_dim,\n",
        "            dropout=0.2,\n",
        "            name=\"lstm_layer\"\n",
        "        )(embedding)\n",
        "\n",
        "# 4. Output Layer: Binary Classification\n",
        "output = Dense(1, activation='sigmoid', name=\"output_layer\")(lstm)\n",
        "\n",
        "\n",
        "model = Model(inputs=input, outputs=output, name=\"Word2Vec_LSTM_Model\")\n",
        "model.compile(optimizer='adam', loss='binary_crossentropy', metrics=['accuracy'])\n",
        "model.summary()"
      ],
      "metadata": {
        "colab": {
          "base_uri": "https://localhost:8080/",
          "height": 292
        },
        "id": "-Q8bZmKInPYe",
        "outputId": "6997d3a4-2ab8-4acb-924b-a0095b7e1b16"
      },
      "execution_count": 33,
      "outputs": [
        {
          "output_type": "stream",
          "name": "stderr",
          "text": [
            "/usr/local/lib/python3.11/dist-packages/keras/src/layers/core/embedding.py:90: UserWarning: Argument `input_length` is deprecated. Just remove it.\n",
            "  warnings.warn(\n"
          ]
        },
        {
          "output_type": "display_data",
          "data": {
            "text/plain": [
              "\u001b[1mModel: \"Word2Vec_LSTM_Model\"\u001b[0m\n"
            ],
            "text/html": [
              "<pre style=\"white-space:pre;overflow-x:auto;line-height:normal;font-family:Menlo,'DejaVu Sans Mono',consolas,'Courier New',monospace\"><span style=\"font-weight: bold\">Model: \"Word2Vec_LSTM_Model\"</span>\n",
              "</pre>\n"
            ]
          },
          "metadata": {}
        },
        {
          "output_type": "display_data",
          "data": {
            "text/plain": [
              "┏━━━━━━━━━━━━━━━━━━━━━━━━━━━━━━━━━┳━━━━━━━━━━━━━━━━━━━━━━━━┳━━━━━━━━━━━━━━━┓\n",
              "┃\u001b[1m \u001b[0m\u001b[1mLayer (type)                   \u001b[0m\u001b[1m \u001b[0m┃\u001b[1m \u001b[0m\u001b[1mOutput Shape          \u001b[0m\u001b[1m \u001b[0m┃\u001b[1m \u001b[0m\u001b[1m      Param #\u001b[0m\u001b[1m \u001b[0m┃\n",
              "┡━━━━━━━━━━━━━━━━━━━━━━━━━━━━━━━━━╇━━━━━━━━━━━━━━━━━━━━━━━━╇━━━━━━━━━━━━━━━┩\n",
              "│ input_layer (\u001b[38;5;33mInputLayer\u001b[0m)        │ (\u001b[38;5;45mNone\u001b[0m, \u001b[38;5;34m216\u001b[0m)            │             \u001b[38;5;34m0\u001b[0m │\n",
              "├─────────────────────────────────┼────────────────────────┼───────────────┤\n",
              "│ embedding_layer (\u001b[38;5;33mEmbedding\u001b[0m)     │ (\u001b[38;5;45mNone\u001b[0m, \u001b[38;5;34m216\u001b[0m, \u001b[38;5;34m300\u001b[0m)       │     \u001b[38;5;34m1,911,000\u001b[0m │\n",
              "├─────────────────────────────────┼────────────────────────┼───────────────┤\n",
              "│ lstm_layer (\u001b[38;5;33mLSTM\u001b[0m)               │ (\u001b[38;5;45mNone\u001b[0m, \u001b[38;5;34m300\u001b[0m)            │       \u001b[38;5;34m721,200\u001b[0m │\n",
              "├─────────────────────────────────┼────────────────────────┼───────────────┤\n",
              "│ output_layer (\u001b[38;5;33mDense\u001b[0m)            │ (\u001b[38;5;45mNone\u001b[0m, \u001b[38;5;34m1\u001b[0m)              │           \u001b[38;5;34m301\u001b[0m │\n",
              "└─────────────────────────────────┴────────────────────────┴───────────────┘\n"
            ],
            "text/html": [
              "<pre style=\"white-space:pre;overflow-x:auto;line-height:normal;font-family:Menlo,'DejaVu Sans Mono',consolas,'Courier New',monospace\">┏━━━━━━━━━━━━━━━━━━━━━━━━━━━━━━━━━┳━━━━━━━━━━━━━━━━━━━━━━━━┳━━━━━━━━━━━━━━━┓\n",
              "┃<span style=\"font-weight: bold\"> Layer (type)                    </span>┃<span style=\"font-weight: bold\"> Output Shape           </span>┃<span style=\"font-weight: bold\">       Param # </span>┃\n",
              "┡━━━━━━━━━━━━━━━━━━━━━━━━━━━━━━━━━╇━━━━━━━━━━━━━━━━━━━━━━━━╇━━━━━━━━━━━━━━━┩\n",
              "│ input_layer (<span style=\"color: #0087ff; text-decoration-color: #0087ff\">InputLayer</span>)        │ (<span style=\"color: #00d7ff; text-decoration-color: #00d7ff\">None</span>, <span style=\"color: #00af00; text-decoration-color: #00af00\">216</span>)            │             <span style=\"color: #00af00; text-decoration-color: #00af00\">0</span> │\n",
              "├─────────────────────────────────┼────────────────────────┼───────────────┤\n",
              "│ embedding_layer (<span style=\"color: #0087ff; text-decoration-color: #0087ff\">Embedding</span>)     │ (<span style=\"color: #00d7ff; text-decoration-color: #00d7ff\">None</span>, <span style=\"color: #00af00; text-decoration-color: #00af00\">216</span>, <span style=\"color: #00af00; text-decoration-color: #00af00\">300</span>)       │     <span style=\"color: #00af00; text-decoration-color: #00af00\">1,911,000</span> │\n",
              "├─────────────────────────────────┼────────────────────────┼───────────────┤\n",
              "│ lstm_layer (<span style=\"color: #0087ff; text-decoration-color: #0087ff\">LSTM</span>)               │ (<span style=\"color: #00d7ff; text-decoration-color: #00d7ff\">None</span>, <span style=\"color: #00af00; text-decoration-color: #00af00\">300</span>)            │       <span style=\"color: #00af00; text-decoration-color: #00af00\">721,200</span> │\n",
              "├─────────────────────────────────┼────────────────────────┼───────────────┤\n",
              "│ output_layer (<span style=\"color: #0087ff; text-decoration-color: #0087ff\">Dense</span>)            │ (<span style=\"color: #00d7ff; text-decoration-color: #00d7ff\">None</span>, <span style=\"color: #00af00; text-decoration-color: #00af00\">1</span>)              │           <span style=\"color: #00af00; text-decoration-color: #00af00\">301</span> │\n",
              "└─────────────────────────────────┴────────────────────────┴───────────────┘\n",
              "</pre>\n"
            ]
          },
          "metadata": {}
        },
        {
          "output_type": "display_data",
          "data": {
            "text/plain": [
              "\u001b[1m Total params: \u001b[0m\u001b[38;5;34m2,632,501\u001b[0m (10.04 MB)\n"
            ],
            "text/html": [
              "<pre style=\"white-space:pre;overflow-x:auto;line-height:normal;font-family:Menlo,'DejaVu Sans Mono',consolas,'Courier New',monospace\"><span style=\"font-weight: bold\"> Total params: </span><span style=\"color: #00af00; text-decoration-color: #00af00\">2,632,501</span> (10.04 MB)\n",
              "</pre>\n"
            ]
          },
          "metadata": {}
        },
        {
          "output_type": "display_data",
          "data": {
            "text/plain": [
              "\u001b[1m Trainable params: \u001b[0m\u001b[38;5;34m721,501\u001b[0m (2.75 MB)\n"
            ],
            "text/html": [
              "<pre style=\"white-space:pre;overflow-x:auto;line-height:normal;font-family:Menlo,'DejaVu Sans Mono',consolas,'Courier New',monospace\"><span style=\"font-weight: bold\"> Trainable params: </span><span style=\"color: #00af00; text-decoration-color: #00af00\">721,501</span> (2.75 MB)\n",
              "</pre>\n"
            ]
          },
          "metadata": {}
        },
        {
          "output_type": "display_data",
          "data": {
            "text/plain": [
              "\u001b[1m Non-trainable params: \u001b[0m\u001b[38;5;34m1,911,000\u001b[0m (7.29 MB)\n"
            ],
            "text/html": [
              "<pre style=\"white-space:pre;overflow-x:auto;line-height:normal;font-family:Menlo,'DejaVu Sans Mono',consolas,'Courier New',monospace\"><span style=\"font-weight: bold\"> Non-trainable params: </span><span style=\"color: #00af00; text-decoration-color: #00af00\">1,911,000</span> (7.29 MB)\n",
              "</pre>\n"
            ]
          },
          "metadata": {}
        }
      ]
    },
    {
      "cell_type": "code",
      "source": [
        "from tensorflow.keras.utils import plot_model\n",
        "plot_model(\n",
        "    model,\n",
        "    show_shapes=True,       # Muestra las dimensiones de entrada/salida por capa\n",
        "    show_layer_names=True,  # Muestra los nombres definidos en cada capa\n",
        "    expand_nested=False,    # Por si hay submodelos, no expandirlos\n",
        "    dpi=70,                 # Resolución\n",
        "    to_file='modelo_word2vec_lstm.png'  # Guarda imagen (opcional)\n",
        ")\n"
      ],
      "metadata": {
        "colab": {
          "base_uri": "https://localhost:8080/",
          "height": 456
        },
        "id": "Omx3dE-l0fZP",
        "outputId": "d874407b-ceb3-4add-d4e6-b0c252e86adf"
      },
      "execution_count": 34,
      "outputs": [
        {
          "output_type": "execute_result",
          "data": {
            "image/png": "[encoded data removed]",
            "text/plain": [
              "<IPython.core.display.Image object>"
            ]
          },
          "metadata": {},
          "execution_count": 34
        }
      ]
    },
    {
      "cell_type": "code",
      "source": [
        "from tensorflow.keras.callbacks import EarlyStopping\n",
        "\n",
        "early_stopping = EarlyStopping(monitor='val_loss', patience=3, restore_best_weights=True)\n",
        "\n",
        "\n",
        "history = model.fit(\n",
        "    X_train, y_train,\n",
        "    validation_data=(X_test, y_test),\n",
        "    epochs=30,\n",
        "    batch_size=32,\n",
        "    verbose=1,\n",
        "    callbacks=[early_stopping]\n",
        ")\n"
      ],
      "metadata": {
        "colab": {
          "base_uri": "https://localhost:8080/"
        },
        "id": "-78ugvQf0l_i",
        "outputId": "00e5c544-385c-4564-c230-53f75f878c27"
      },
      "execution_count": 44,
      "outputs": [
        {
          "output_type": "stream",
          "name": "stdout",
          "text": [
            "Epoch 1/30\n",
            "\u001b[1m40/40\u001b[0m \u001b[32m━━━━━━━━━━━━━━━━━━━━\u001b[0m\u001b[37m\u001b[0m \u001b[1m1s\u001b[0m 25ms/step - accuracy: 0.8378 - loss: 0.4196 - val_accuracy: 0.7500 - val_loss: 0.5405\n",
            "Epoch 2/30\n",
            "\u001b[1m40/40\u001b[0m \u001b[32m━━━━━━━━━━━━━━━━━━━━\u001b[0m\u001b[37m\u001b[0m \u001b[1m1s\u001b[0m 21ms/step - accuracy: 0.8054 - loss: 0.5019 - val_accuracy: 0.8750 - val_loss: 0.3777\n",
            "Epoch 3/30\n",
            "\u001b[1m40/40\u001b[0m \u001b[32m━━━━━━━━━━━━━━━━━━━━\u001b[0m\u001b[37m\u001b[0m \u001b[1m1s\u001b[0m 23ms/step - accuracy: 0.8542 - loss: 0.4047 - val_accuracy: 0.8687 - val_loss: 0.4038\n",
            "Epoch 4/30\n",
            "\u001b[1m40/40\u001b[0m \u001b[32m━━━━━━━━━━━━━━━━━━━━\u001b[0m\u001b[37m\u001b[0m \u001b[1m1s\u001b[0m 24ms/step - accuracy: 0.8651 - loss: 0.3868 - val_accuracy: 0.8875 - val_loss: 0.3183\n",
            "Epoch 5/30\n",
            "\u001b[1m40/40\u001b[0m \u001b[32m━━━━━━━━━━━━━━━━━━━━\u001b[0m\u001b[37m\u001b[0m \u001b[1m1s\u001b[0m 24ms/step - accuracy: 0.8738 - loss: 0.3486 - val_accuracy: 0.8719 - val_loss: 0.3409\n",
            "Epoch 6/30\n",
            "\u001b[1m40/40\u001b[0m \u001b[32m━━━━━━━━━━━━━━━━━━━━\u001b[0m\u001b[37m\u001b[0m \u001b[1m1s\u001b[0m 23ms/step - accuracy: 0.8676 - loss: 0.3658 - val_accuracy: 0.9062 - val_loss: 0.2914\n",
            "Epoch 7/30\n",
            "\u001b[1m40/40\u001b[0m \u001b[32m━━━━━━━━━━━━━━━━━━━━\u001b[0m\u001b[37m\u001b[0m \u001b[1m1s\u001b[0m 23ms/step - accuracy: 0.8081 - loss: 0.4997 - val_accuracy: 0.9031 - val_loss: 0.3177\n",
            "Epoch 8/30\n",
            "\u001b[1m40/40\u001b[0m \u001b[32m━━━━━━━━━━━━━━━━━━━━\u001b[0m\u001b[37m\u001b[0m \u001b[1m1s\u001b[0m 21ms/step - accuracy: 0.8966 - loss: 0.3197 - val_accuracy: 0.9156 - val_loss: 0.2736\n",
            "Epoch 9/30\n",
            "\u001b[1m40/40\u001b[0m \u001b[32m━━━━━━━━━━━━━━━━━━━━\u001b[0m\u001b[37m\u001b[0m \u001b[1m1s\u001b[0m 21ms/step - accuracy: 0.8674 - loss: 0.3664 - val_accuracy: 0.8875 - val_loss: 0.3241\n",
            "Epoch 10/30\n",
            "\u001b[1m40/40\u001b[0m \u001b[32m━━━━━━━━━━━━━━━━━━━━\u001b[0m\u001b[37m\u001b[0m \u001b[1m1s\u001b[0m 21ms/step - accuracy: 0.8817 - loss: 0.3395 - val_accuracy: 0.9344 - val_loss: 0.2360\n",
            "Epoch 11/30\n",
            "\u001b[1m40/40\u001b[0m \u001b[32m━━━━━━━━━━━━━━━━━━━━\u001b[0m\u001b[37m\u001b[0m \u001b[1m1s\u001b[0m 21ms/step - accuracy: 0.8962 - loss: 0.2987 - val_accuracy: 0.8781 - val_loss: 0.4120\n",
            "Epoch 12/30\n",
            "\u001b[1m40/40\u001b[0m \u001b[32m━━━━━━━━━━━━━━━━━━━━\u001b[0m\u001b[37m\u001b[0m \u001b[1m1s\u001b[0m 22ms/step - accuracy: 0.9041 - loss: 0.3034 - val_accuracy: 0.9250 - val_loss: 0.2265\n",
            "Epoch 13/30\n",
            "\u001b[1m40/40\u001b[0m \u001b[32m━━━━━━━━━━━━━━━━━━━━\u001b[0m\u001b[37m\u001b[0m \u001b[1m1s\u001b[0m 23ms/step - accuracy: 0.9192 - loss: 0.2607 - val_accuracy: 0.9250 - val_loss: 0.2250\n",
            "Epoch 14/30\n",
            "\u001b[1m40/40\u001b[0m \u001b[32m━━━━━━━━━━━━━━━━━━━━\u001b[0m\u001b[37m\u001b[0m \u001b[1m1s\u001b[0m 23ms/step - accuracy: 0.9212 - loss: 0.2524 - val_accuracy: 0.9219 - val_loss: 0.2490\n",
            "Epoch 15/30\n",
            "\u001b[1m40/40\u001b[0m \u001b[32m━━━━━━━━━━━━━━━━━━━━\u001b[0m\u001b[37m\u001b[0m \u001b[1m1s\u001b[0m 21ms/step - accuracy: 0.9047 - loss: 0.2815 - val_accuracy: 0.9031 - val_loss: 0.2959\n",
            "Epoch 16/30\n",
            "\u001b[1m40/40\u001b[0m \u001b[32m━━━━━━━━━━━━━━━━━━━━\u001b[0m\u001b[37m\u001b[0m \u001b[1m1s\u001b[0m 23ms/step - accuracy: 0.9103 - loss: 0.2630 - val_accuracy: 0.9094 - val_loss: 0.3237\n"
          ]
        }
      ]
    },
    {
      "cell_type": "markdown",
      "source": [
        "## Evaluation:"
      ],
      "metadata": {
        "id": "hAtQpW6W0xHu"
      }
    },
    {
      "cell_type": "code",
      "source": [
        "loss, accuracy = model.evaluate(X_test, y_test, verbose=1)\n",
        "print(f\"Loss: {loss:.4f}\")\n",
        "print(f\"Accuracy): {accuracy:.4f}\")"
      ],
      "metadata": {
        "colab": {
          "base_uri": "https://localhost:8080/"
        },
        "id": "e2uraaKh0unI",
        "outputId": "1b4a2241-6ba5-438b-929d-44e293aa8483"
      },
      "execution_count": 46,
      "outputs": [
        {
          "output_type": "stream",
          "name": "stdout",
          "text": [
            "\u001b[1m10/10\u001b[0m \u001b[32m━━━━━━━━━━━━━━━━━━━━\u001b[0m\u001b[37m\u001b[0m \u001b[1m0s\u001b[0m 16ms/step - accuracy: 0.8964 - loss: 0.2913\n",
            "Loss: 0.3058\n",
            "Accuracy): 0.8969\n"
          ]
        }
      ]
    },
    {
      "cell_type": "code",
      "source": [
        "import matplotlib.pyplot as plt\n",
        "\n",
        "# Accuracy\n",
        "plt.plot(history.history['accuracy'], label='Training')\n",
        "plt.plot(history.history['val_accuracy'], label='Testing')\n",
        "plt.title('Model Accuracy')\n",
        "plt.ylabel('Accuracy')\n",
        "plt.xlabel('Epoch')\n",
        "plt.legend()\n",
        "plt.grid(True)\n",
        "plt.show()\n",
        "\n",
        "# Loss\n",
        "plt.plot(history.history['loss'], label='Training')\n",
        "plt.plot(history.history['val_loss'], label='Validation')\n",
        "plt.title('Model Loss')\n",
        "plt.ylabel('Loss')\n",
        "plt.xlabel('Epoch')\n",
        "plt.legend()\n",
        "plt.grid(True)\n",
        "plt.show()\n"
      ],
      "metadata": {
        "colab": {
          "base_uri": "https://localhost:8080/",
          "height": 927
        },
        "id": "t-RA6qu803jb",
        "outputId": "26dffe83-e78b-4a8a-d5b5-6b126f0b15a1"
      },
      "execution_count": 47,
      "outputs": [
        {
          "output_type": "display_data",
          "data": {
            "text/plain": [
              "<Figure size 640x480 with 1 Axes>"
            ],
            "image/png": "[encoded data removed]"
          },
          "metadata": {}
        },
        {
          "output_type": "display_data",
          "data": {
            "text/plain": [
              "<Figure size 640x480 with 1 Axes>"
            ],
            "image/png": "[encoded data removed]"
          },
          "metadata": {}
        }
      ]
    }
  ]
}